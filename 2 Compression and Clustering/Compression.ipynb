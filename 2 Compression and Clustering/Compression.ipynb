{
 "cells": [
  {
   "cell_type": "markdown",
   "metadata": {},
   "source": [
    "Foltányi Kolos\n",
    "\n",
    "\n",
    "# Csődelőrejelzés Többáltozós Statisztikai Módszerekkel\n",
    "A csődelőrejelzés alapvető célja csődvalószínűség, illetve fizetőképességet kifejező score becslése az egyes megfigyelésekhez a magyarázó változók (pénzügyi mutatók) és a csődeseményt kifejező bináris célváltozó felhasználásával."
   ]
  },
  {
   "cell_type": "markdown",
   "metadata": {},
   "source": [
    "## Adattömörítés és klaszterezés a csődmodell adatbázison\n",
    "\n",
    "Annak érdekében, hogy modellezési célváltozó nélkül megfelelően csoportosíthassuk a pénzügyi arculat szempontjából eltérő tulajdonsággal rendelkező vállalatokat, szükséges az első lépésben elkészített csődmodellezési adatbázison a pénzügyi mutatók adattömörítésének elvégzése főkomponenselemzés segítségével, majd a főkomponensek felhasználásával a vállalatok klaszterezése. Ennek érdekében a következő feladatokat kell elvégezni:\n",
    "\n",
    "**1. Az előző lépésben létrehozott pénzügyi mutatók adattömörítése főkomponenselemzés segítségével** <br>\n",
    "**2. A főkomponensértékek alapján a vállalatok klaszterezése k-közép algoritmussal** <br>\n",
    "**3. Diszkriminanciaanalízis segítségével a fentiekben elvégzett klaszterezés statisztikai megfelelőségének tesztelése**\n",
    "\n",
    "A kiinduló adatbázist az elősző lépésben előállított `database.xlsx` file-ból olvassuk be egy dataframe-be."
   ]
  },
  {
   "cell_type": "code",
   "execution_count": 1,
   "metadata": {},
   "outputs": [
    {
     "data": {
      "text/html": [
       "<div>\n",
       "<style scoped>\n",
       "    .dataframe tbody tr th:only-of-type {\n",
       "        vertical-align: middle;\n",
       "    }\n",
       "\n",
       "    .dataframe tbody tr th {\n",
       "        vertical-align: top;\n",
       "    }\n",
       "\n",
       "    .dataframe thead th {\n",
       "        text-align: right;\n",
       "    }\n",
       "</style>\n",
       "<table border=\"1\" class=\"dataframe\">\n",
       "  <thead>\n",
       "    <tr style=\"text-align: right;\">\n",
       "      <th></th>\n",
       "      <th>ROE</th>\n",
       "      <th>ROA</th>\n",
       "      <th>EBITDA</th>\n",
       "      <th>ROS</th>\n",
       "      <th>ARBEV_ARANYOS_EBITDA</th>\n",
       "      <th>ESZK_ARANYOS_ARBEV</th>\n",
       "      <th>KESZLET_FORG_SEB</th>\n",
       "      <th>VEVO_FORG_SEB</th>\n",
       "      <th>LIKVID_RATA</th>\n",
       "      <th>LIKVID_GYORSRATA</th>\n",
       "      <th>...</th>\n",
       "      <th>CASH_FLOW_ARBEV_RATA</th>\n",
       "      <th>MFO_NAGYSAG</th>\n",
       "      <th>ARBEV_NAGYSAG</th>\n",
       "      <th>ARBEV_NOVEK</th>\n",
       "      <th>TOKE_ELLAT</th>\n",
       "      <th>FORGO_ESZK_ARANYA</th>\n",
       "      <th>LIKVID_PENZESZK_ARANYA</th>\n",
       "      <th>FORGO_TOKE_ARANY</th>\n",
       "      <th>VEVO_SZALLITO_ARANY</th>\n",
       "      <th>CSOD</th>\n",
       "    </tr>\n",
       "  </thead>\n",
       "  <tbody>\n",
       "    <tr>\n",
       "      <th>0</th>\n",
       "      <td>0.031</td>\n",
       "      <td>0.016</td>\n",
       "      <td>0.034</td>\n",
       "      <td>0.101</td>\n",
       "      <td>0.101</td>\n",
       "      <td>0.337</td>\n",
       "      <td>18.119</td>\n",
       "      <td>105.374</td>\n",
       "      <td>0.230</td>\n",
       "      <td>0.119</td>\n",
       "      <td>...</td>\n",
       "      <td>0.065</td>\n",
       "      <td>11.229</td>\n",
       "      <td>9.905</td>\n",
       "      <td>0.927</td>\n",
       "      <td>2.097</td>\n",
       "      <td>0.053</td>\n",
       "      <td>0.433</td>\n",
       "      <td>-0.102</td>\n",
       "      <td>0.005</td>\n",
       "      <td>0</td>\n",
       "    </tr>\n",
       "    <tr>\n",
       "      <th>1</th>\n",
       "      <td>2.107</td>\n",
       "      <td>0.704</td>\n",
       "      <td>0.868</td>\n",
       "      <td>0.644</td>\n",
       "      <td>0.644</td>\n",
       "      <td>3.831</td>\n",
       "      <td>36045.429</td>\n",
       "      <td>6.938</td>\n",
       "      <td>1.104</td>\n",
       "      <td>1.104</td>\n",
       "      <td>...</td>\n",
       "      <td>0.553</td>\n",
       "      <td>10.058</td>\n",
       "      <td>11.787</td>\n",
       "      <td>1.010</td>\n",
       "      <td>0.023</td>\n",
       "      <td>0.995</td>\n",
       "      <td>0.184</td>\n",
       "      <td>0.093</td>\n",
       "      <td>0.901</td>\n",
       "      <td>0</td>\n",
       "    </tr>\n",
       "    <tr>\n",
       "      <th>2</th>\n",
       "      <td>0.132</td>\n",
       "      <td>0.039</td>\n",
       "      <td>0.056</td>\n",
       "      <td>0.021</td>\n",
       "      <td>0.021</td>\n",
       "      <td>2.740</td>\n",
       "      <td>30.380</td>\n",
       "      <td>3.946</td>\n",
       "      <td>1.326</td>\n",
       "      <td>1.180</td>\n",
       "      <td>...</td>\n",
       "      <td>0.019</td>\n",
       "      <td>9.687</td>\n",
       "      <td>10.667</td>\n",
       "      <td>1.127</td>\n",
       "      <td>0.934</td>\n",
       "      <td>0.799</td>\n",
       "      <td>0.045</td>\n",
       "      <td>0.196</td>\n",
       "      <td>0.978</td>\n",
       "      <td>0</td>\n",
       "    </tr>\n",
       "    <tr>\n",
       "      <th>3</th>\n",
       "      <td>0.053</td>\n",
       "      <td>0.047</td>\n",
       "      <td>0.075</td>\n",
       "      <td>0.064</td>\n",
       "      <td>0.064</td>\n",
       "      <td>1.162</td>\n",
       "      <td>11.768</td>\n",
       "      <td>6.101</td>\n",
       "      <td>9.129</td>\n",
       "      <td>7.849</td>\n",
       "      <td>...</td>\n",
       "      <td>0.063</td>\n",
       "      <td>13.068</td>\n",
       "      <td>13.239</td>\n",
       "      <td>0.971</td>\n",
       "      <td>0.398</td>\n",
       "      <td>0.719</td>\n",
       "      <td>0.589</td>\n",
       "      <td>0.641</td>\n",
       "      <td>2.469</td>\n",
       "      <td>0</td>\n",
       "    </tr>\n",
       "    <tr>\n",
       "      <th>4</th>\n",
       "      <td>0.115</td>\n",
       "      <td>0.045</td>\n",
       "      <td>0.355</td>\n",
       "      <td>0.222</td>\n",
       "      <td>0.222</td>\n",
       "      <td>1.597</td>\n",
       "      <td>109.840</td>\n",
       "      <td>5.976</td>\n",
       "      <td>0.567</td>\n",
       "      <td>0.539</td>\n",
       "      <td>...</td>\n",
       "      <td>0.216</td>\n",
       "      <td>11.339</td>\n",
       "      <td>11.612</td>\n",
       "      <td>1.558</td>\n",
       "      <td>1.567</td>\n",
       "      <td>0.239</td>\n",
       "      <td>0.030</td>\n",
       "      <td>-0.182</td>\n",
       "      <td>0.406</td>\n",
       "      <td>0</td>\n",
       "    </tr>\n",
       "  </tbody>\n",
       "</table>\n",
       "<p>5 rows × 30 columns</p>\n",
       "</div>"
      ],
      "text/plain": [
       "    ROE   ROA  EBITDA   ROS  ARBEV_ARANYOS_EBITDA  ESZK_ARANYOS_ARBEV  \\\n",
       "0 0.031 0.016   0.034 0.101                 0.101               0.337   \n",
       "1 2.107 0.704   0.868 0.644                 0.644               3.831   \n",
       "2 0.132 0.039   0.056 0.021                 0.021               2.740   \n",
       "3 0.053 0.047   0.075 0.064                 0.064               1.162   \n",
       "4 0.115 0.045   0.355 0.222                 0.222               1.597   \n",
       "\n",
       "   KESZLET_FORG_SEB  VEVO_FORG_SEB  LIKVID_RATA  LIKVID_GYORSRATA  ...  \\\n",
       "0            18.119        105.374        0.230             0.119  ...   \n",
       "1         36045.429          6.938        1.104             1.104  ...   \n",
       "2            30.380          3.946        1.326             1.180  ...   \n",
       "3            11.768          6.101        9.129             7.849  ...   \n",
       "4           109.840          5.976        0.567             0.539  ...   \n",
       "\n",
       "   CASH_FLOW_ARBEV_RATA  MFO_NAGYSAG  ARBEV_NAGYSAG  ARBEV_NOVEK  TOKE_ELLAT  \\\n",
       "0                 0.065       11.229          9.905        0.927       2.097   \n",
       "1                 0.553       10.058         11.787        1.010       0.023   \n",
       "2                 0.019        9.687         10.667        1.127       0.934   \n",
       "3                 0.063       13.068         13.239        0.971       0.398   \n",
       "4                 0.216       11.339         11.612        1.558       1.567   \n",
       "\n",
       "   FORGO_ESZK_ARANYA  LIKVID_PENZESZK_ARANYA  FORGO_TOKE_ARANY  \\\n",
       "0              0.053                   0.433            -0.102   \n",
       "1              0.995                   0.184             0.093   \n",
       "2              0.799                   0.045             0.196   \n",
       "3              0.719                   0.589             0.641   \n",
       "4              0.239                   0.030            -0.182   \n",
       "\n",
       "   VEVO_SZALLITO_ARANY  CSOD  \n",
       "0                0.005     0  \n",
       "1                0.901     0  \n",
       "2                0.978     0  \n",
       "3                2.469     0  \n",
       "4                0.406     0  \n",
       "\n",
       "[5 rows x 30 columns]"
      ]
     },
     "execution_count": 1,
     "metadata": {},
     "output_type": "execute_result"
    }
   ],
   "source": [
    "from factor_analyzer.factor_analyzer import calculate_bartlett_sphericity\n",
    "from factor_analyzer.factor_analyzer import calculate_kmo\n",
    "from sklearn.preprocessing import StandardScaler\n",
    "from sklearn.decomposition import PCA\n",
    "from sklearn.cluster import KMeans\n",
    "from scipy.stats import pearsonr\n",
    "import matplotlib.pyplot as plt\n",
    "import numpy as np\n",
    "import pandas as pd\n",
    "\n",
    "\n",
    "pd.options.display.float_format = '{:.3f}'.format\n",
    "\n",
    "database = pd.read_excel('database.xlsx', index_col=0)\n",
    "\n",
    "database.head()"
   ]
  },
  {
   "cell_type": "markdown",
   "metadata": {},
   "source": [
    "## **1. Az előző lépésben létrehozott pénzügyi mutatók adattömörítése főkomponenselemzés segítségével**\n",
    "A főkomponensek létrehozásánál figyelembe kell venni, hogy a tömörített változók üzleti szempontból hasonló üzenetet hordozzanak. A létrehozott főkomponensek validálása a korrelációs együtthatók, a megőrzött varianciahányadok, valamint a főkomponens-képzés további követelményeinek teljesülésének vizsgálatával történik.\n",
    "\n",
    "Definiáljuk először a `runPCA` függvényt, amely a megadott változókon főkomponenselemzést végez:"
   ]
  },
  {
   "cell_type": "code",
   "execution_count": 2,
   "metadata": {},
   "outputs": [],
   "source": [
    "def runPCA(features):\n",
    "    x = database[features]\n",
    "    x = StandardScaler().fit_transform(x)\n",
    "    pca = PCA(n_components=len(features))\n",
    "    ans = pca.fit_transform(x)\n",
    "    return (ans, pca)"
   ]
  },
  {
   "cell_type": "markdown",
   "metadata": {},
   "source": [
    "A főkomponens-képzés követelményeinek teljesülését a korrelációs mátrix, a varianciahányadok, valamint a Kaiser-Meier-Olkin minta megfelelőségi mértéke alapján vizsgáljuk. Ezek megképzését az alábbi függvények segítik:"
   ]
  },
  {
   "cell_type": "code",
   "execution_count": 3,
   "metadata": {},
   "outputs": [],
   "source": [
    "def parwisePearson(db, cols=None):\n",
    "    cols = cols or db.columns\n",
    "    ans = [pearsonr(db[x], db[y]) for x in cols for y in cols]\n",
    "    n = len(cols)\n",
    "    corm = np.array([x[0] for x in ans]).reshape(n, n)\n",
    "    sigm = np.array([x[1] for x in ans]).reshape(n, n)\n",
    "    cor = pd.DataFrame(corm, columns=cols, index=cols)\n",
    "    sig = pd.DataFrame(sigm, columns=cols, index=cols)\n",
    "    return (cor, sig)\n",
    "\n",
    "def varianceExplained(pca):\n",
    "    return (pca.explained_variance_, pca.explained_variance_ratio_)\n",
    "\n",
    "def kmo(db, cols):\n",
    "    x = db[cols]\n",
    "    _, kmo = calculate_kmo(x)\n",
    "    return kmo\n",
    "\n",
    "def bartlettTest(db, cols):\n",
    "    x = db[cols]\n",
    "    chi2, p = calculate_bartlett_sphericity(x)\n",
    "    return (chi2, p)"
   ]
  },
  {
   "cell_type": "markdown",
   "metadata": {},
   "source": [
    "Az eredmények logolását pedig a következő függvények segítik:"
   ]
  },
  {
   "cell_type": "code",
   "execution_count": 4,
   "metadata": {
    "scrolled": false
   },
   "outputs": [],
   "source": [
    "def printCorrelation(features):\n",
    "    cor, sig = parwisePearson(database, features)\n",
    "    print('Correlation Matrix:')\n",
    "    display(cor)\n",
    "    print('\\nSignificance:')\n",
    "    display(sig)\n",
    "\n",
    "def printVariance(pca):\n",
    "    print('\\n\\nVariance Explained:')\n",
    "    var, rat = varianceExplained(pca)\n",
    "    rat *= 100\n",
    "    cols = [f'PC{i+1}' for i in range(pca.n_components)]\n",
    "    inds = ['Total Variance:', '% of Variance:']\n",
    "    df = pd.DataFrame([var, rat], columns=cols, index=inds)\n",
    "    display(df)\n",
    "    print('\\nScree Plot:')\n",
    "    df.iloc[0,:].plot();\n",
    "\n",
    "def printKMOAndBartlett(features):\n",
    "    print('\\nKMO:', kmo(database, features))\n",
    "    print('\\nBartlett\\'s Test:')\n",
    "    chi2, p = bartlettTest(database, features)\n",
    "    print('   Chi-Square: ', chi2)\n",
    "    print('   p-value: ', p)\n",
    "\n",
    "def printStats(features, pca):\n",
    "    printCorrelation(features)\n",
    "    printKMOAndBartlett(features)\n",
    "    printVariance(pca)"
   ]
  },
  {
   "cell_type": "markdown",
   "metadata": {},
   "source": [
    "Ezen metódusokkal megalkothatjuk a főkomponenseket, melyeket egy új dataframe-be mentünk el:"
   ]
  },
  {
   "cell_type": "code",
   "execution_count": 5,
   "metadata": {},
   "outputs": [],
   "source": [
    "compressed = pd.DataFrame()"
   ]
  },
  {
   "cell_type": "markdown",
   "metadata": {},
   "source": [
    "**Eszközjövedelmezőségi főkomponens** <br>\n",
    "ROA, EBITDA jövedelmezőség, Dinamikus jövedelmezőségi ráta"
   ]
  },
  {
   "cell_type": "code",
   "execution_count": 6,
   "metadata": {},
   "outputs": [
    {
     "name": "stdout",
     "output_type": "stream",
     "text": [
      "Correlation Matrix:\n"
     ]
    },
    {
     "data": {
      "text/html": [
       "<div>\n",
       "<style scoped>\n",
       "    .dataframe tbody tr th:only-of-type {\n",
       "        vertical-align: middle;\n",
       "    }\n",
       "\n",
       "    .dataframe tbody tr th {\n",
       "        vertical-align: top;\n",
       "    }\n",
       "\n",
       "    .dataframe thead th {\n",
       "        text-align: right;\n",
       "    }\n",
       "</style>\n",
       "<table border=\"1\" class=\"dataframe\">\n",
       "  <thead>\n",
       "    <tr style=\"text-align: right;\">\n",
       "      <th></th>\n",
       "      <th>ROA</th>\n",
       "      <th>EBITDA</th>\n",
       "      <th>DIN_JOVED_RATA</th>\n",
       "    </tr>\n",
       "  </thead>\n",
       "  <tbody>\n",
       "    <tr>\n",
       "      <th>ROA</th>\n",
       "      <td>1.000</td>\n",
       "      <td>0.944</td>\n",
       "      <td>0.974</td>\n",
       "    </tr>\n",
       "    <tr>\n",
       "      <th>EBITDA</th>\n",
       "      <td>0.944</td>\n",
       "      <td>1.000</td>\n",
       "      <td>0.968</td>\n",
       "    </tr>\n",
       "    <tr>\n",
       "      <th>DIN_JOVED_RATA</th>\n",
       "      <td>0.974</td>\n",
       "      <td>0.968</td>\n",
       "      <td>1.000</td>\n",
       "    </tr>\n",
       "  </tbody>\n",
       "</table>\n",
       "</div>"
      ],
      "text/plain": [
       "                 ROA  EBITDA  DIN_JOVED_RATA\n",
       "ROA            1.000   0.944           0.974\n",
       "EBITDA         0.944   1.000           0.968\n",
       "DIN_JOVED_RATA 0.974   0.968           1.000"
      ]
     },
     "metadata": {},
     "output_type": "display_data"
    },
    {
     "name": "stdout",
     "output_type": "stream",
     "text": [
      "\n",
      "Significance:\n"
     ]
    },
    {
     "data": {
      "text/html": [
       "<div>\n",
       "<style scoped>\n",
       "    .dataframe tbody tr th:only-of-type {\n",
       "        vertical-align: middle;\n",
       "    }\n",
       "\n",
       "    .dataframe tbody tr th {\n",
       "        vertical-align: top;\n",
       "    }\n",
       "\n",
       "    .dataframe thead th {\n",
       "        text-align: right;\n",
       "    }\n",
       "</style>\n",
       "<table border=\"1\" class=\"dataframe\">\n",
       "  <thead>\n",
       "    <tr style=\"text-align: right;\">\n",
       "      <th></th>\n",
       "      <th>ROA</th>\n",
       "      <th>EBITDA</th>\n",
       "      <th>DIN_JOVED_RATA</th>\n",
       "    </tr>\n",
       "  </thead>\n",
       "  <tbody>\n",
       "    <tr>\n",
       "      <th>ROA</th>\n",
       "      <td>0.000</td>\n",
       "      <td>0.000</td>\n",
       "      <td>0.000</td>\n",
       "    </tr>\n",
       "    <tr>\n",
       "      <th>EBITDA</th>\n",
       "      <td>0.000</td>\n",
       "      <td>0.000</td>\n",
       "      <td>0.000</td>\n",
       "    </tr>\n",
       "    <tr>\n",
       "      <th>DIN_JOVED_RATA</th>\n",
       "      <td>0.000</td>\n",
       "      <td>0.000</td>\n",
       "      <td>0.000</td>\n",
       "    </tr>\n",
       "  </tbody>\n",
       "</table>\n",
       "</div>"
      ],
      "text/plain": [
       "                 ROA  EBITDA  DIN_JOVED_RATA\n",
       "ROA            0.000   0.000           0.000\n",
       "EBITDA         0.000   0.000           0.000\n",
       "DIN_JOVED_RATA 0.000   0.000           0.000"
      ]
     },
     "metadata": {},
     "output_type": "display_data"
    },
    {
     "name": "stdout",
     "output_type": "stream",
     "text": [
      "\n",
      "KMO: 0.7419505405673928\n",
      "\n",
      "Bartlett's Test:\n",
      "   Chi-Square:  5739.648000112813\n",
      "   p-value:  0.0\n",
      "\n",
      "\n",
      "Variance Explained:\n"
     ]
    },
    {
     "data": {
      "text/html": [
       "<div>\n",
       "<style scoped>\n",
       "    .dataframe tbody tr th:only-of-type {\n",
       "        vertical-align: middle;\n",
       "    }\n",
       "\n",
       "    .dataframe tbody tr th {\n",
       "        vertical-align: top;\n",
       "    }\n",
       "\n",
       "    .dataframe thead th {\n",
       "        text-align: right;\n",
       "    }\n",
       "</style>\n",
       "<table border=\"1\" class=\"dataframe\">\n",
       "  <thead>\n",
       "    <tr style=\"text-align: right;\">\n",
       "      <th></th>\n",
       "      <th>PC1</th>\n",
       "      <th>PC2</th>\n",
       "      <th>PC3</th>\n",
       "    </tr>\n",
       "  </thead>\n",
       "  <tbody>\n",
       "    <tr>\n",
       "      <th>Total Variance:</th>\n",
       "      <td>2.927</td>\n",
       "      <td>0.057</td>\n",
       "      <td>0.019</td>\n",
       "    </tr>\n",
       "    <tr>\n",
       "      <th>% of Variance:</th>\n",
       "      <td>97.473</td>\n",
       "      <td>1.889</td>\n",
       "      <td>0.638</td>\n",
       "    </tr>\n",
       "  </tbody>\n",
       "</table>\n",
       "</div>"
      ],
      "text/plain": [
       "                   PC1   PC2   PC3\n",
       "Total Variance:  2.927 0.057 0.019\n",
       "% of Variance:  97.473 1.889 0.638"
      ]
     },
     "metadata": {},
     "output_type": "display_data"
    },
    {
     "name": "stdout",
     "output_type": "stream",
     "text": [
      "\n",
      "Scree Plot:\n"
     ]
    },
    {
     "data": {
      "image/png": "[encoded data removed]",
      "text/plain": [
       "<Figure size 432x288 with 1 Axes>"
      ]
     },
     "metadata": {
      "needs_background": "light"
     },
     "output_type": "display_data"
    }
   ],
   "source": [
    "features = ['ROA', 'EBITDA', 'DIN_JOVED_RATA']\n",
    "\n",
    "tx, pca = runPCA(features)\n",
    "\n",
    "compressed['PCA_ESZK_JOVED'] = [x[0] for x in tx]\n",
    "\n",
    "printStats(features, pca)"
   ]
  },
  {
   "cell_type": "markdown",
   "metadata": {},
   "source": [
    "**Bevételarányos jövedelmezőségi főkomponens – bevételtermelés hatékonysága**<br>\n",
    "ROS, Árbevételarányos EBITDA, Cash flow / Nettó árbevétel\n"
   ]
  },
  {
   "cell_type": "code",
   "execution_count": 7,
   "metadata": {},
   "outputs": [
    {
     "name": "stdout",
     "output_type": "stream",
     "text": [
      "Correlation Matrix:\n"
     ]
    },
    {
     "data": {
      "text/html": [
       "<div>\n",
       "<style scoped>\n",
       "    .dataframe tbody tr th:only-of-type {\n",
       "        vertical-align: middle;\n",
       "    }\n",
       "\n",
       "    .dataframe tbody tr th {\n",
       "        vertical-align: top;\n",
       "    }\n",
       "\n",
       "    .dataframe thead th {\n",
       "        text-align: right;\n",
       "    }\n",
       "</style>\n",
       "<table border=\"1\" class=\"dataframe\">\n",
       "  <thead>\n",
       "    <tr style=\"text-align: right;\">\n",
       "      <th></th>\n",
       "      <th>ROS</th>\n",
       "      <th>EBITDA</th>\n",
       "      <th>CASH_FLOW_ARBEV_RATA</th>\n",
       "    </tr>\n",
       "  </thead>\n",
       "  <tbody>\n",
       "    <tr>\n",
       "      <th>ROS</th>\n",
       "      <td>1.000</td>\n",
       "      <td>0.670</td>\n",
       "      <td>0.886</td>\n",
       "    </tr>\n",
       "    <tr>\n",
       "      <th>EBITDA</th>\n",
       "      <td>0.670</td>\n",
       "      <td>1.000</td>\n",
       "      <td>0.647</td>\n",
       "    </tr>\n",
       "    <tr>\n",
       "      <th>CASH_FLOW_ARBEV_RATA</th>\n",
       "      <td>0.886</td>\n",
       "      <td>0.647</td>\n",
       "      <td>1.000</td>\n",
       "    </tr>\n",
       "  </tbody>\n",
       "</table>\n",
       "</div>"
      ],
      "text/plain": [
       "                       ROS  EBITDA  CASH_FLOW_ARBEV_RATA\n",
       "ROS                  1.000   0.670                 0.886\n",
       "EBITDA               0.670   1.000                 0.647\n",
       "CASH_FLOW_ARBEV_RATA 0.886   0.647                 1.000"
      ]
     },
     "metadata": {},
     "output_type": "display_data"
    },
    {
     "name": "stdout",
     "output_type": "stream",
     "text": [
      "\n",
      "Significance:\n"
     ]
    },
    {
     "data": {
      "text/html": [
       "<div>\n",
       "<style scoped>\n",
       "    .dataframe tbody tr th:only-of-type {\n",
       "        vertical-align: middle;\n",
       "    }\n",
       "\n",
       "    .dataframe tbody tr th {\n",
       "        vertical-align: top;\n",
       "    }\n",
       "\n",
       "    .dataframe thead th {\n",
       "        text-align: right;\n",
       "    }\n",
       "</style>\n",
       "<table border=\"1\" class=\"dataframe\">\n",
       "  <thead>\n",
       "    <tr style=\"text-align: right;\">\n",
       "      <th></th>\n",
       "      <th>ROS</th>\n",
       "      <th>EBITDA</th>\n",
       "      <th>CASH_FLOW_ARBEV_RATA</th>\n",
       "    </tr>\n",
       "  </thead>\n",
       "  <tbody>\n",
       "    <tr>\n",
       "      <th>ROS</th>\n",
       "      <td>0.000</td>\n",
       "      <td>0.000</td>\n",
       "      <td>0.000</td>\n",
       "    </tr>\n",
       "    <tr>\n",
       "      <th>EBITDA</th>\n",
       "      <td>0.000</td>\n",
       "      <td>0.000</td>\n",
       "      <td>0.000</td>\n",
       "    </tr>\n",
       "    <tr>\n",
       "      <th>CASH_FLOW_ARBEV_RATA</th>\n",
       "      <td>0.000</td>\n",
       "      <td>0.000</td>\n",
       "      <td>0.000</td>\n",
       "    </tr>\n",
       "  </tbody>\n",
       "</table>\n",
       "</div>"
      ],
      "text/plain": [
       "                       ROS  EBITDA  CASH_FLOW_ARBEV_RATA\n",
       "ROS                  0.000   0.000                 0.000\n",
       "EBITDA               0.000   0.000                 0.000\n",
       "CASH_FLOW_ARBEV_RATA 0.000   0.000                 0.000"
      ]
     },
     "metadata": {},
     "output_type": "display_data"
    },
    {
     "name": "stdout",
     "output_type": "stream",
     "text": [
      "\n",
      "KMO: 0.6908632887191525\n",
      "\n",
      "Bartlett's Test:\n",
      "   Chi-Square:  2153.923659978889\n",
      "   p-value:  0.0\n",
      "\n",
      "\n",
      "Variance Explained:\n"
     ]
    },
    {
     "data": {
      "text/html": [
       "<div>\n",
       "<style scoped>\n",
       "    .dataframe tbody tr th:only-of-type {\n",
       "        vertical-align: middle;\n",
       "    }\n",
       "\n",
       "    .dataframe tbody tr th {\n",
       "        vertical-align: top;\n",
       "    }\n",
       "\n",
       "    .dataframe thead th {\n",
       "        text-align: right;\n",
       "    }\n",
       "</style>\n",
       "<table border=\"1\" class=\"dataframe\">\n",
       "  <thead>\n",
       "    <tr style=\"text-align: right;\">\n",
       "      <th></th>\n",
       "      <th>PC1</th>\n",
       "      <th>PC2</th>\n",
       "      <th>PC3</th>\n",
       "    </tr>\n",
       "  </thead>\n",
       "  <tbody>\n",
       "    <tr>\n",
       "      <th>Total Variance:</th>\n",
       "      <td>2.477</td>\n",
       "      <td>0.413</td>\n",
       "      <td>0.113</td>\n",
       "    </tr>\n",
       "    <tr>\n",
       "      <th>% of Variance:</th>\n",
       "      <td>82.476</td>\n",
       "      <td>13.745</td>\n",
       "      <td>3.779</td>\n",
       "    </tr>\n",
       "  </tbody>\n",
       "</table>\n",
       "</div>"
      ],
      "text/plain": [
       "                   PC1    PC2   PC3\n",
       "Total Variance:  2.477  0.413 0.113\n",
       "% of Variance:  82.476 13.745 3.779"
      ]
     },
     "metadata": {},
     "output_type": "display_data"
    },
    {
     "name": "stdout",
     "output_type": "stream",
     "text": [
      "\n",
      "Scree Plot:\n"
     ]
    },
    {
     "data": {
      "image/png": "[encoded data removed]",
      "text/plain": [
       "<Figure size 432x288 with 1 Axes>"
      ]
     },
     "metadata": {
      "needs_background": "light"
     },
     "output_type": "display_data"
    }
   ],
   "source": [
    "features = ['ROS', 'EBITDA', 'CASH_FLOW_ARBEV_RATA']\n",
    "\n",
    "tx, pca = runPCA(features)\n",
    "\n",
    "compressed['PCA_BEV_ARANYOS_JOVED'] = [x[0] for x in tx]\n",
    "\n",
    "printStats(features, pca)"
   ]
  },
  {
   "cell_type": "markdown",
   "metadata": {},
   "source": [
    "**Eladósodottság főkomponens – sajáterős vállalatfinanszírozás mértéke**<br>\n",
    "Saját vagyon aránya, Eladósodottság mértéke, Nettó forgótőke aránya"
   ]
  },
  {
   "cell_type": "code",
   "execution_count": 8,
   "metadata": {},
   "outputs": [
    {
     "name": "stdout",
     "output_type": "stream",
     "text": [
      "Correlation Matrix:\n"
     ]
    },
    {
     "data": {
      "text/html": [
       "<div>\n",
       "<style scoped>\n",
       "    .dataframe tbody tr th:only-of-type {\n",
       "        vertical-align: middle;\n",
       "    }\n",
       "\n",
       "    .dataframe tbody tr th {\n",
       "        vertical-align: top;\n",
       "    }\n",
       "\n",
       "    .dataframe thead th {\n",
       "        text-align: right;\n",
       "    }\n",
       "</style>\n",
       "<table border=\"1\" class=\"dataframe\">\n",
       "  <thead>\n",
       "    <tr style=\"text-align: right;\">\n",
       "      <th></th>\n",
       "      <th>SAJAT_VAGYON_ARANYA</th>\n",
       "      <th>ELADOS_MERTEKE</th>\n",
       "      <th>FORGO_TOKE_ARANY</th>\n",
       "    </tr>\n",
       "  </thead>\n",
       "  <tbody>\n",
       "    <tr>\n",
       "      <th>SAJAT_VAGYON_ARANYA</th>\n",
       "      <td>1.000</td>\n",
       "      <td>-0.931</td>\n",
       "      <td>0.683</td>\n",
       "    </tr>\n",
       "    <tr>\n",
       "      <th>ELADOS_MERTEKE</th>\n",
       "      <td>-0.931</td>\n",
       "      <td>1.000</td>\n",
       "      <td>-0.696</td>\n",
       "    </tr>\n",
       "    <tr>\n",
       "      <th>FORGO_TOKE_ARANY</th>\n",
       "      <td>0.683</td>\n",
       "      <td>-0.696</td>\n",
       "      <td>1.000</td>\n",
       "    </tr>\n",
       "  </tbody>\n",
       "</table>\n",
       "</div>"
      ],
      "text/plain": [
       "                     SAJAT_VAGYON_ARANYA  ELADOS_MERTEKE  FORGO_TOKE_ARANY\n",
       "SAJAT_VAGYON_ARANYA                1.000          -0.931             0.683\n",
       "ELADOS_MERTEKE                    -0.931           1.000            -0.696\n",
       "FORGO_TOKE_ARANY                   0.683          -0.696             1.000"
      ]
     },
     "metadata": {},
     "output_type": "display_data"
    },
    {
     "name": "stdout",
     "output_type": "stream",
     "text": [
      "\n",
      "Significance:\n"
     ]
    },
    {
     "data": {
      "text/html": [
       "<div>\n",
       "<style scoped>\n",
       "    .dataframe tbody tr th:only-of-type {\n",
       "        vertical-align: middle;\n",
       "    }\n",
       "\n",
       "    .dataframe tbody tr th {\n",
       "        vertical-align: top;\n",
       "    }\n",
       "\n",
       "    .dataframe thead th {\n",
       "        text-align: right;\n",
       "    }\n",
       "</style>\n",
       "<table border=\"1\" class=\"dataframe\">\n",
       "  <thead>\n",
       "    <tr style=\"text-align: right;\">\n",
       "      <th></th>\n",
       "      <th>SAJAT_VAGYON_ARANYA</th>\n",
       "      <th>ELADOS_MERTEKE</th>\n",
       "      <th>FORGO_TOKE_ARANY</th>\n",
       "    </tr>\n",
       "  </thead>\n",
       "  <tbody>\n",
       "    <tr>\n",
       "      <th>SAJAT_VAGYON_ARANYA</th>\n",
       "      <td>0.000</td>\n",
       "      <td>0.000</td>\n",
       "      <td>0.000</td>\n",
       "    </tr>\n",
       "    <tr>\n",
       "      <th>ELADOS_MERTEKE</th>\n",
       "      <td>0.000</td>\n",
       "      <td>0.000</td>\n",
       "      <td>0.000</td>\n",
       "    </tr>\n",
       "    <tr>\n",
       "      <th>FORGO_TOKE_ARANY</th>\n",
       "      <td>0.000</td>\n",
       "      <td>0.000</td>\n",
       "      <td>0.000</td>\n",
       "    </tr>\n",
       "  </tbody>\n",
       "</table>\n",
       "</div>"
      ],
      "text/plain": [
       "                     SAJAT_VAGYON_ARANYA  ELADOS_MERTEKE  FORGO_TOKE_ARANY\n",
       "SAJAT_VAGYON_ARANYA                0.000           0.000             0.000\n",
       "ELADOS_MERTEKE                     0.000           0.000             0.000\n",
       "FORGO_TOKE_ARANY                   0.000           0.000             0.000"
      ]
     },
     "metadata": {},
     "output_type": "display_data"
    },
    {
     "name": "stdout",
     "output_type": "stream",
     "text": [
      "\n",
      "KMO: 0.6879168259893406\n",
      "\n",
      "Bartlett's Test:\n",
      "   Chi-Square:  2686.099799451646\n",
      "   p-value:  0.0\n",
      "\n",
      "\n",
      "Variance Explained:\n"
     ]
    },
    {
     "data": {
      "text/html": [
       "<div>\n",
       "<style scoped>\n",
       "    .dataframe tbody tr th:only-of-type {\n",
       "        vertical-align: middle;\n",
       "    }\n",
       "\n",
       "    .dataframe tbody tr th {\n",
       "        vertical-align: top;\n",
       "    }\n",
       "\n",
       "    .dataframe thead th {\n",
       "        text-align: right;\n",
       "    }\n",
       "</style>\n",
       "<table border=\"1\" class=\"dataframe\">\n",
       "  <thead>\n",
       "    <tr style=\"text-align: right;\">\n",
       "      <th></th>\n",
       "      <th>PC1</th>\n",
       "      <th>PC2</th>\n",
       "      <th>PC3</th>\n",
       "    </tr>\n",
       "  </thead>\n",
       "  <tbody>\n",
       "    <tr>\n",
       "      <th>Total Variance:</th>\n",
       "      <td>2.548</td>\n",
       "      <td>0.385</td>\n",
       "      <td>0.069</td>\n",
       "    </tr>\n",
       "    <tr>\n",
       "      <th>% of Variance:</th>\n",
       "      <td>84.862</td>\n",
       "      <td>12.830</td>\n",
       "      <td>2.307</td>\n",
       "    </tr>\n",
       "  </tbody>\n",
       "</table>\n",
       "</div>"
      ],
      "text/plain": [
       "                   PC1    PC2   PC3\n",
       "Total Variance:  2.548  0.385 0.069\n",
       "% of Variance:  84.862 12.830 2.307"
      ]
     },
     "metadata": {},
     "output_type": "display_data"
    },
    {
     "name": "stdout",
     "output_type": "stream",
     "text": [
      "\n",
      "Scree Plot:\n"
     ]
    },
    {
     "data": {
      "image/png": "[encoded data removed]",
      "text/plain": [
       "<Figure size 432x288 with 1 Axes>"
      ]
     },
     "metadata": {
      "needs_background": "light"
     },
     "output_type": "display_data"
    }
   ],
   "source": [
    "features = ['SAJAT_VAGYON_ARANYA', 'ELADOS_MERTEKE', 'FORGO_TOKE_ARANY']\n",
    "\n",
    "tx, pca = runPCA(features)\n",
    "\n",
    "\n",
    "compressed['PCA_ELAD_MERTEKE'] = [x[0] for x in tx]\n",
    "\n",
    "printStats(features, pca)"
   ]
  },
  {
   "cell_type": "markdown",
   "metadata": {},
   "source": [
    "**Tőkeellátottság főkomponens – tőkeszerkezet megfelelősége**<br>\n",
    "Bonitás, Tőkeellátottsági mutató"
   ]
  },
  {
   "cell_type": "code",
   "execution_count": 9,
   "metadata": {},
   "outputs": [
    {
     "name": "stdout",
     "output_type": "stream",
     "text": [
      "Correlation Matrix:\n"
     ]
    },
    {
     "data": {
      "text/html": [
       "<div>\n",
       "<style scoped>\n",
       "    .dataframe tbody tr th:only-of-type {\n",
       "        vertical-align: middle;\n",
       "    }\n",
       "\n",
       "    .dataframe tbody tr th {\n",
       "        vertical-align: top;\n",
       "    }\n",
       "\n",
       "    .dataframe thead th {\n",
       "        text-align: right;\n",
       "    }\n",
       "</style>\n",
       "<table border=\"1\" class=\"dataframe\">\n",
       "  <thead>\n",
       "    <tr style=\"text-align: right;\">\n",
       "      <th></th>\n",
       "      <th>TOKE_ELLAT</th>\n",
       "      <th>IDEGEN_SAJAT_TOKE_ARANY</th>\n",
       "    </tr>\n",
       "  </thead>\n",
       "  <tbody>\n",
       "    <tr>\n",
       "      <th>TOKE_ELLAT</th>\n",
       "      <td>1.000</td>\n",
       "      <td>-0.355</td>\n",
       "    </tr>\n",
       "    <tr>\n",
       "      <th>IDEGEN_SAJAT_TOKE_ARANY</th>\n",
       "      <td>-0.355</td>\n",
       "      <td>1.000</td>\n",
       "    </tr>\n",
       "  </tbody>\n",
       "</table>\n",
       "</div>"
      ],
      "text/plain": [
       "                         TOKE_ELLAT  IDEGEN_SAJAT_TOKE_ARANY\n",
       "TOKE_ELLAT                    1.000                   -0.355\n",
       "IDEGEN_SAJAT_TOKE_ARANY      -0.355                    1.000"
      ]
     },
     "metadata": {},
     "output_type": "display_data"
    },
    {
     "name": "stdout",
     "output_type": "stream",
     "text": [
      "\n",
      "Significance:\n"
     ]
    },
    {
     "data": {
      "text/html": [
       "<div>\n",
       "<style scoped>\n",
       "    .dataframe tbody tr th:only-of-type {\n",
       "        vertical-align: middle;\n",
       "    }\n",
       "\n",
       "    .dataframe tbody tr th {\n",
       "        vertical-align: top;\n",
       "    }\n",
       "\n",
       "    .dataframe thead th {\n",
       "        text-align: right;\n",
       "    }\n",
       "</style>\n",
       "<table border=\"1\" class=\"dataframe\">\n",
       "  <thead>\n",
       "    <tr style=\"text-align: right;\">\n",
       "      <th></th>\n",
       "      <th>TOKE_ELLAT</th>\n",
       "      <th>IDEGEN_SAJAT_TOKE_ARANY</th>\n",
       "    </tr>\n",
       "  </thead>\n",
       "  <tbody>\n",
       "    <tr>\n",
       "      <th>TOKE_ELLAT</th>\n",
       "      <td>0.000</td>\n",
       "      <td>0.000</td>\n",
       "    </tr>\n",
       "    <tr>\n",
       "      <th>IDEGEN_SAJAT_TOKE_ARANY</th>\n",
       "      <td>0.000</td>\n",
       "      <td>0.000</td>\n",
       "    </tr>\n",
       "  </tbody>\n",
       "</table>\n",
       "</div>"
      ],
      "text/plain": [
       "                         TOKE_ELLAT  IDEGEN_SAJAT_TOKE_ARANY\n",
       "TOKE_ELLAT                    0.000                    0.000\n",
       "IDEGEN_SAJAT_TOKE_ARANY       0.000                    0.000"
      ]
     },
     "metadata": {},
     "output_type": "display_data"
    },
    {
     "name": "stdout",
     "output_type": "stream",
     "text": [
      "\n",
      "KMO: 0.49949975000012503\n",
      "\n",
      "Bartlett's Test:\n",
      "   Chi-Square:  136.20190873494764\n",
      "   p-value:  9.07715548738756e-32\n",
      "\n",
      "\n",
      "Variance Explained:\n"
     ]
    },
    {
     "data": {
      "text/html": [
       "<div>\n",
       "<style scoped>\n",
       "    .dataframe tbody tr th:only-of-type {\n",
       "        vertical-align: middle;\n",
       "    }\n",
       "\n",
       "    .dataframe tbody tr th {\n",
       "        vertical-align: top;\n",
       "    }\n",
       "\n",
       "    .dataframe thead th {\n",
       "        text-align: right;\n",
       "    }\n",
       "</style>\n",
       "<table border=\"1\" class=\"dataframe\">\n",
       "  <thead>\n",
       "    <tr style=\"text-align: right;\">\n",
       "      <th></th>\n",
       "      <th>PC1</th>\n",
       "      <th>PC2</th>\n",
       "    </tr>\n",
       "  </thead>\n",
       "  <tbody>\n",
       "    <tr>\n",
       "      <th>Total Variance:</th>\n",
       "      <td>1.356</td>\n",
       "      <td>0.646</td>\n",
       "    </tr>\n",
       "    <tr>\n",
       "      <th>% of Variance:</th>\n",
       "      <td>67.740</td>\n",
       "      <td>32.260</td>\n",
       "    </tr>\n",
       "  </tbody>\n",
       "</table>\n",
       "</div>"
      ],
      "text/plain": [
       "                   PC1    PC2\n",
       "Total Variance:  1.356  0.646\n",
       "% of Variance:  67.740 32.260"
      ]
     },
     "metadata": {},
     "output_type": "display_data"
    },
    {
     "name": "stdout",
     "output_type": "stream",
     "text": [
      "\n",
      "Scree Plot:\n"
     ]
    },
    {
     "data": {
      "image/png": "[encoded data removed]",
      "text/plain": [
       "<Figure size 432x288 with 1 Axes>"
      ]
     },
     "metadata": {
      "needs_background": "light"
     },
     "output_type": "display_data"
    }
   ],
   "source": [
    "features = ['TOKE_ELLAT', 'IDEGEN_SAJAT_TOKE_ARANY']\n",
    "\n",
    "tx, pca = runPCA(features)\n",
    "\n",
    "compressed['PCA_TOKE_ELLAT'] = [x[0] for x in tx]\n",
    "\n",
    "printStats(features, pca)"
   ]
  },
  {
   "cell_type": "markdown",
   "metadata": {},
   "source": [
    "**Likviditás főkomponens – rövid lejáratú kötelezettségek visszafizetési képessége**<br>\n",
    "Likviditási ráta, Likviditási gyorsráta, Készpénz likviditás"
   ]
  },
  {
   "cell_type": "code",
   "execution_count": 10,
   "metadata": {},
   "outputs": [
    {
     "name": "stdout",
     "output_type": "stream",
     "text": [
      "Correlation Matrix:\n"
     ]
    },
    {
     "data": {
      "text/html": [
       "<div>\n",
       "<style scoped>\n",
       "    .dataframe tbody tr th:only-of-type {\n",
       "        vertical-align: middle;\n",
       "    }\n",
       "\n",
       "    .dataframe tbody tr th {\n",
       "        vertical-align: top;\n",
       "    }\n",
       "\n",
       "    .dataframe thead th {\n",
       "        text-align: right;\n",
       "    }\n",
       "</style>\n",
       "<table border=\"1\" class=\"dataframe\">\n",
       "  <thead>\n",
       "    <tr style=\"text-align: right;\">\n",
       "      <th></th>\n",
       "      <th>LIKVID_RATA</th>\n",
       "      <th>LIKVID_GYORSRATA</th>\n",
       "      <th>KESZPENZ_LIKVID</th>\n",
       "    </tr>\n",
       "  </thead>\n",
       "  <tbody>\n",
       "    <tr>\n",
       "      <th>LIKVID_RATA</th>\n",
       "      <td>1.000</td>\n",
       "      <td>0.959</td>\n",
       "      <td>0.813</td>\n",
       "    </tr>\n",
       "    <tr>\n",
       "      <th>LIKVID_GYORSRATA</th>\n",
       "      <td>0.959</td>\n",
       "      <td>1.000</td>\n",
       "      <td>0.848</td>\n",
       "    </tr>\n",
       "    <tr>\n",
       "      <th>KESZPENZ_LIKVID</th>\n",
       "      <td>0.813</td>\n",
       "      <td>0.848</td>\n",
       "      <td>1.000</td>\n",
       "    </tr>\n",
       "  </tbody>\n",
       "</table>\n",
       "</div>"
      ],
      "text/plain": [
       "                  LIKVID_RATA  LIKVID_GYORSRATA  KESZPENZ_LIKVID\n",
       "LIKVID_RATA             1.000             0.959            0.813\n",
       "LIKVID_GYORSRATA        0.959             1.000            0.848\n",
       "KESZPENZ_LIKVID         0.813             0.848            1.000"
      ]
     },
     "metadata": {},
     "output_type": "display_data"
    },
    {
     "name": "stdout",
     "output_type": "stream",
     "text": [
      "\n",
      "Significance:\n"
     ]
    },
    {
     "data": {
      "text/html": [
       "<div>\n",
       "<style scoped>\n",
       "    .dataframe tbody tr th:only-of-type {\n",
       "        vertical-align: middle;\n",
       "    }\n",
       "\n",
       "    .dataframe tbody tr th {\n",
       "        vertical-align: top;\n",
       "    }\n",
       "\n",
       "    .dataframe thead th {\n",
       "        text-align: right;\n",
       "    }\n",
       "</style>\n",
       "<table border=\"1\" class=\"dataframe\">\n",
       "  <thead>\n",
       "    <tr style=\"text-align: right;\">\n",
       "      <th></th>\n",
       "      <th>LIKVID_RATA</th>\n",
       "      <th>LIKVID_GYORSRATA</th>\n",
       "      <th>KESZPENZ_LIKVID</th>\n",
       "    </tr>\n",
       "  </thead>\n",
       "  <tbody>\n",
       "    <tr>\n",
       "      <th>LIKVID_RATA</th>\n",
       "      <td>0.000</td>\n",
       "      <td>0.000</td>\n",
       "      <td>0.000</td>\n",
       "    </tr>\n",
       "    <tr>\n",
       "      <th>LIKVID_GYORSRATA</th>\n",
       "      <td>0.000</td>\n",
       "      <td>0.000</td>\n",
       "      <td>0.000</td>\n",
       "    </tr>\n",
       "    <tr>\n",
       "      <th>KESZPENZ_LIKVID</th>\n",
       "      <td>0.000</td>\n",
       "      <td>0.000</td>\n",
       "      <td>0.000</td>\n",
       "    </tr>\n",
       "  </tbody>\n",
       "</table>\n",
       "</div>"
      ],
      "text/plain": [
       "                  LIKVID_RATA  LIKVID_GYORSRATA  KESZPENZ_LIKVID\n",
       "LIKVID_RATA             0.000             0.000            0.000\n",
       "LIKVID_GYORSRATA        0.000             0.000            0.000\n",
       "KESZPENZ_LIKVID         0.000             0.000            0.000"
      ]
     },
     "metadata": {},
     "output_type": "display_data"
    },
    {
     "name": "stdout",
     "output_type": "stream",
     "text": [
      "\n",
      "KMO: 0.7105696818711582\n",
      "\n",
      "Bartlett's Test:\n",
      "   Chi-Square:  3773.888756420017\n",
      "   p-value:  0.0\n",
      "\n",
      "\n",
      "Variance Explained:\n"
     ]
    },
    {
     "data": {
      "text/html": [
       "<div>\n",
       "<style scoped>\n",
       "    .dataframe tbody tr th:only-of-type {\n",
       "        vertical-align: middle;\n",
       "    }\n",
       "\n",
       "    .dataframe tbody tr th {\n",
       "        vertical-align: top;\n",
       "    }\n",
       "\n",
       "    .dataframe thead th {\n",
       "        text-align: right;\n",
       "    }\n",
       "</style>\n",
       "<table border=\"1\" class=\"dataframe\">\n",
       "  <thead>\n",
       "    <tr style=\"text-align: right;\">\n",
       "      <th></th>\n",
       "      <th>PC1</th>\n",
       "      <th>PC2</th>\n",
       "      <th>PC3</th>\n",
       "    </tr>\n",
       "  </thead>\n",
       "  <tbody>\n",
       "    <tr>\n",
       "      <th>Total Variance:</th>\n",
       "      <td>2.750</td>\n",
       "      <td>0.214</td>\n",
       "      <td>0.039</td>\n",
       "    </tr>\n",
       "    <tr>\n",
       "      <th>% of Variance:</th>\n",
       "      <td>91.585</td>\n",
       "      <td>7.120</td>\n",
       "      <td>1.294</td>\n",
       "    </tr>\n",
       "  </tbody>\n",
       "</table>\n",
       "</div>"
      ],
      "text/plain": [
       "                   PC1   PC2   PC3\n",
       "Total Variance:  2.750 0.214 0.039\n",
       "% of Variance:  91.585 7.120 1.294"
      ]
     },
     "metadata": {},
     "output_type": "display_data"
    },
    {
     "name": "stdout",
     "output_type": "stream",
     "text": [
      "\n",
      "Scree Plot:\n"
     ]
    },
    {
     "data": {
      "image/png": "[encoded data removed]",
      "text/plain": [
       "<Figure size 432x288 with 1 Axes>"
      ]
     },
     "metadata": {
      "needs_background": "light"
     },
     "output_type": "display_data"
    }
   ],
   "source": [
    "features = ['LIKVID_RATA', 'LIKVID_GYORSRATA', 'KESZPENZ_LIKVID']\n",
    "\n",
    "tx, pca = runPCA(features)\n",
    "\n",
    "compressed['PCA_LIKVID'] = [x[0] for x in tx]\n",
    "\n",
    "printStats(features, pca)"
   ]
  },
  {
   "cell_type": "markdown",
   "metadata": {},
   "source": [
    "**Méret főkomponens – a vállalat mérete**<br>\n",
    "Log(Mérlegfőösszeg), Log(Árbevétel)"
   ]
  },
  {
   "cell_type": "code",
   "execution_count": 11,
   "metadata": {},
   "outputs": [
    {
     "name": "stdout",
     "output_type": "stream",
     "text": [
      "Correlation Matrix:\n"
     ]
    },
    {
     "data": {
      "text/html": [
       "<div>\n",
       "<style scoped>\n",
       "    .dataframe tbody tr th:only-of-type {\n",
       "        vertical-align: middle;\n",
       "    }\n",
       "\n",
       "    .dataframe tbody tr th {\n",
       "        vertical-align: top;\n",
       "    }\n",
       "\n",
       "    .dataframe thead th {\n",
       "        text-align: right;\n",
       "    }\n",
       "</style>\n",
       "<table border=\"1\" class=\"dataframe\">\n",
       "  <thead>\n",
       "    <tr style=\"text-align: right;\">\n",
       "      <th></th>\n",
       "      <th>MFO_NAGYSAG</th>\n",
       "      <th>ARBEV_NAGYSAG</th>\n",
       "    </tr>\n",
       "  </thead>\n",
       "  <tbody>\n",
       "    <tr>\n",
       "      <th>MFO_NAGYSAG</th>\n",
       "      <td>1.000</td>\n",
       "      <td>0.585</td>\n",
       "    </tr>\n",
       "    <tr>\n",
       "      <th>ARBEV_NAGYSAG</th>\n",
       "      <td>0.585</td>\n",
       "      <td>1.000</td>\n",
       "    </tr>\n",
       "  </tbody>\n",
       "</table>\n",
       "</div>"
      ],
      "text/plain": [
       "               MFO_NAGYSAG  ARBEV_NAGYSAG\n",
       "MFO_NAGYSAG          1.000          0.585\n",
       "ARBEV_NAGYSAG        0.585          1.000"
      ]
     },
     "metadata": {},
     "output_type": "display_data"
    },
    {
     "name": "stdout",
     "output_type": "stream",
     "text": [
      "\n",
      "Significance:\n"
     ]
    },
    {
     "data": {
      "text/html": [
       "<div>\n",
       "<style scoped>\n",
       "    .dataframe tbody tr th:only-of-type {\n",
       "        vertical-align: middle;\n",
       "    }\n",
       "\n",
       "    .dataframe tbody tr th {\n",
       "        vertical-align: top;\n",
       "    }\n",
       "\n",
       "    .dataframe thead th {\n",
       "        text-align: right;\n",
       "    }\n",
       "</style>\n",
       "<table border=\"1\" class=\"dataframe\">\n",
       "  <thead>\n",
       "    <tr style=\"text-align: right;\">\n",
       "      <th></th>\n",
       "      <th>MFO_NAGYSAG</th>\n",
       "      <th>ARBEV_NAGYSAG</th>\n",
       "    </tr>\n",
       "  </thead>\n",
       "  <tbody>\n",
       "    <tr>\n",
       "      <th>MFO_NAGYSAG</th>\n",
       "      <td>0.000</td>\n",
       "      <td>0.000</td>\n",
       "    </tr>\n",
       "    <tr>\n",
       "      <th>ARBEV_NAGYSAG</th>\n",
       "      <td>0.000</td>\n",
       "      <td>0.000</td>\n",
       "    </tr>\n",
       "  </tbody>\n",
       "</table>\n",
       "</div>"
      ],
      "text/plain": [
       "               MFO_NAGYSAG  ARBEV_NAGYSAG\n",
       "MFO_NAGYSAG          0.000          0.000\n",
       "ARBEV_NAGYSAG        0.000          0.000"
      ]
     },
     "metadata": {},
     "output_type": "display_data"
    },
    {
     "name": "stdout",
     "output_type": "stream",
     "text": [
      "\n",
      "KMO: 0.4994997500001255\n",
      "\n",
      "Bartlett's Test:\n",
      "   Chi-Square:  419.3264588633775\n",
      "   p-value:  1.7141559571880565e-93\n",
      "\n",
      "\n",
      "Variance Explained:\n"
     ]
    },
    {
     "data": {
      "text/html": [
       "<div>\n",
       "<style scoped>\n",
       "    .dataframe tbody tr th:only-of-type {\n",
       "        vertical-align: middle;\n",
       "    }\n",
       "\n",
       "    .dataframe tbody tr th {\n",
       "        vertical-align: top;\n",
       "    }\n",
       "\n",
       "    .dataframe thead th {\n",
       "        text-align: right;\n",
       "    }\n",
       "</style>\n",
       "<table border=\"1\" class=\"dataframe\">\n",
       "  <thead>\n",
       "    <tr style=\"text-align: right;\">\n",
       "      <th></th>\n",
       "      <th>PC1</th>\n",
       "      <th>PC2</th>\n",
       "    </tr>\n",
       "  </thead>\n",
       "  <tbody>\n",
       "    <tr>\n",
       "      <th>Total Variance:</th>\n",
       "      <td>1.586</td>\n",
       "      <td>0.416</td>\n",
       "    </tr>\n",
       "    <tr>\n",
       "      <th>% of Variance:</th>\n",
       "      <td>79.235</td>\n",
       "      <td>20.765</td>\n",
       "    </tr>\n",
       "  </tbody>\n",
       "</table>\n",
       "</div>"
      ],
      "text/plain": [
       "                   PC1    PC2\n",
       "Total Variance:  1.586  0.416\n",
       "% of Variance:  79.235 20.765"
      ]
     },
     "metadata": {},
     "output_type": "display_data"
    },
    {
     "name": "stdout",
     "output_type": "stream",
     "text": [
      "\n",
      "Scree Plot:\n"
     ]
    },
    {
     "data": {
      "image/png": "[encoded data removed]",
      "text/plain": [
       "<Figure size 432x288 with 1 Axes>"
      ]
     },
     "metadata": {
      "needs_background": "light"
     },
     "output_type": "display_data"
    }
   ],
   "source": [
    "features = ['MFO_NAGYSAG', 'ARBEV_NAGYSAG']\n",
    "\n",
    "tx, pca = runPCA(features)\n",
    "\n",
    "compressed['PCA_MERET'] = [x[0] for x in tx]\n",
    "\n",
    "printStats(features, pca)"
   ]
  },
  {
   "cell_type": "markdown",
   "metadata": {},
   "source": [
    "**Fedezettség főkomponens – kötelezettségek dinamikus fedezettsége**<br>\n",
    "Dinamikus likviditás, Cash flow / Összes tartozás"
   ]
  },
  {
   "cell_type": "code",
   "execution_count": 12,
   "metadata": {},
   "outputs": [
    {
     "name": "stdout",
     "output_type": "stream",
     "text": [
      "Correlation Matrix:\n"
     ]
    },
    {
     "data": {
      "text/html": [
       "<div>\n",
       "<style scoped>\n",
       "    .dataframe tbody tr th:only-of-type {\n",
       "        vertical-align: middle;\n",
       "    }\n",
       "\n",
       "    .dataframe tbody tr th {\n",
       "        vertical-align: top;\n",
       "    }\n",
       "\n",
       "    .dataframe thead th {\n",
       "        text-align: right;\n",
       "    }\n",
       "</style>\n",
       "<table border=\"1\" class=\"dataframe\">\n",
       "  <thead>\n",
       "    <tr style=\"text-align: right;\">\n",
       "      <th></th>\n",
       "      <th>DINAMIKUS_LIKVID</th>\n",
       "      <th>CASH_FLOW_TART_RATA</th>\n",
       "    </tr>\n",
       "  </thead>\n",
       "  <tbody>\n",
       "    <tr>\n",
       "      <th>DINAMIKUS_LIKVID</th>\n",
       "      <td>1.000</td>\n",
       "      <td>0.812</td>\n",
       "    </tr>\n",
       "    <tr>\n",
       "      <th>CASH_FLOW_TART_RATA</th>\n",
       "      <td>0.812</td>\n",
       "      <td>1.000</td>\n",
       "    </tr>\n",
       "  </tbody>\n",
       "</table>\n",
       "</div>"
      ],
      "text/plain": [
       "                     DINAMIKUS_LIKVID  CASH_FLOW_TART_RATA\n",
       "DINAMIKUS_LIKVID                1.000                0.812\n",
       "CASH_FLOW_TART_RATA             0.812                1.000"
      ]
     },
     "metadata": {},
     "output_type": "display_data"
    },
    {
     "name": "stdout",
     "output_type": "stream",
     "text": [
      "\n",
      "Significance:\n"
     ]
    },
    {
     "data": {
      "text/html": [
       "<div>\n",
       "<style scoped>\n",
       "    .dataframe tbody tr th:only-of-type {\n",
       "        vertical-align: middle;\n",
       "    }\n",
       "\n",
       "    .dataframe tbody tr th {\n",
       "        vertical-align: top;\n",
       "    }\n",
       "\n",
       "    .dataframe thead th {\n",
       "        text-align: right;\n",
       "    }\n",
       "</style>\n",
       "<table border=\"1\" class=\"dataframe\">\n",
       "  <thead>\n",
       "    <tr style=\"text-align: right;\">\n",
       "      <th></th>\n",
       "      <th>DINAMIKUS_LIKVID</th>\n",
       "      <th>CASH_FLOW_TART_RATA</th>\n",
       "    </tr>\n",
       "  </thead>\n",
       "  <tbody>\n",
       "    <tr>\n",
       "      <th>DINAMIKUS_LIKVID</th>\n",
       "      <td>0.000</td>\n",
       "      <td>0.000</td>\n",
       "    </tr>\n",
       "    <tr>\n",
       "      <th>CASH_FLOW_TART_RATA</th>\n",
       "      <td>0.000</td>\n",
       "      <td>0.000</td>\n",
       "    </tr>\n",
       "  </tbody>\n",
       "</table>\n",
       "</div>"
      ],
      "text/plain": [
       "                     DINAMIKUS_LIKVID  CASH_FLOW_TART_RATA\n",
       "DINAMIKUS_LIKVID                0.000                0.000\n",
       "CASH_FLOW_TART_RATA             0.000                0.000"
      ]
     },
     "metadata": {},
     "output_type": "display_data"
    },
    {
     "name": "stdout",
     "output_type": "stream",
     "text": [
      "\n",
      "KMO: 0.4994997500001246\n",
      "\n",
      "Bartlett's Test:\n",
      "   Chi-Square:  1077.2639475727412\n",
      "   p-value:  1.4449572915689799e-236\n",
      "\n",
      "\n",
      "Variance Explained:\n"
     ]
    },
    {
     "data": {
      "text/html": [
       "<div>\n",
       "<style scoped>\n",
       "    .dataframe tbody tr th:only-of-type {\n",
       "        vertical-align: middle;\n",
       "    }\n",
       "\n",
       "    .dataframe tbody tr th {\n",
       "        vertical-align: top;\n",
       "    }\n",
       "\n",
       "    .dataframe thead th {\n",
       "        text-align: right;\n",
       "    }\n",
       "</style>\n",
       "<table border=\"1\" class=\"dataframe\">\n",
       "  <thead>\n",
       "    <tr style=\"text-align: right;\">\n",
       "      <th></th>\n",
       "      <th>PC1</th>\n",
       "      <th>PC2</th>\n",
       "    </tr>\n",
       "  </thead>\n",
       "  <tbody>\n",
       "    <tr>\n",
       "      <th>Total Variance:</th>\n",
       "      <td>1.814</td>\n",
       "      <td>0.188</td>\n",
       "    </tr>\n",
       "    <tr>\n",
       "      <th>% of Variance:</th>\n",
       "      <td>90.611</td>\n",
       "      <td>9.389</td>\n",
       "    </tr>\n",
       "  </tbody>\n",
       "</table>\n",
       "</div>"
      ],
      "text/plain": [
       "                   PC1   PC2\n",
       "Total Variance:  1.814 0.188\n",
       "% of Variance:  90.611 9.389"
      ]
     },
     "metadata": {},
     "output_type": "display_data"
    },
    {
     "name": "stdout",
     "output_type": "stream",
     "text": [
      "\n",
      "Scree Plot:\n"
     ]
    },
    {
     "data": {
      "image/png": "[encoded data removed]",
      "text/plain": [
       "<Figure size 432x288 with 1 Axes>"
      ]
     },
     "metadata": {
      "needs_background": "light"
     },
     "output_type": "display_data"
    }
   ],
   "source": [
    "features = ['DINAMIKUS_LIKVID', 'CASH_FLOW_TART_RATA']\n",
    "\n",
    "tx, pca = runPCA(features)\n",
    "\n",
    "compressed['PCA_FEDEZETTSEG'] = [x[0] for x in tx]\n",
    "\n",
    "printStats(features, pca)"
   ]
  },
  {
   "cell_type": "markdown",
   "metadata": {},
   "source": [
    "## 2. A főkomponensértékek alapján a vállalatok klaszterezése k-közép algoritmussal\n",
    "Az így kiszámolt 7 főkomponens segítségével a továbbiakban klaszterelemzést tudunk végezni."
   ]
  },
  {
   "cell_type": "code",
   "execution_count": 13,
   "metadata": {},
   "outputs": [
    {
     "data": {
      "text/html": [
       "<div>\n",
       "<style scoped>\n",
       "    .dataframe tbody tr th:only-of-type {\n",
       "        vertical-align: middle;\n",
       "    }\n",
       "\n",
       "    .dataframe tbody tr th {\n",
       "        vertical-align: top;\n",
       "    }\n",
       "\n",
       "    .dataframe thead th {\n",
       "        text-align: right;\n",
       "    }\n",
       "</style>\n",
       "<table border=\"1\" class=\"dataframe\">\n",
       "  <thead>\n",
       "    <tr style=\"text-align: right;\">\n",
       "      <th></th>\n",
       "      <th>PCA_ESZK_JOVED</th>\n",
       "      <th>PCA_BEV_ARANYOS_JOVED</th>\n",
       "      <th>PCA_ELAD_MERTEKE</th>\n",
       "      <th>PCA_TOKE_ELLAT</th>\n",
       "      <th>PCA_LIKVID</th>\n",
       "      <th>PCA_MERET</th>\n",
       "      <th>PCA_FEDEZETTSEG</th>\n",
       "    </tr>\n",
       "  </thead>\n",
       "  <tbody>\n",
       "    <tr>\n",
       "      <th>0</th>\n",
       "      <td>-0.839</td>\n",
       "      <td>-0.376</td>\n",
       "      <td>0.187</td>\n",
       "      <td>-0.500</td>\n",
       "      <td>-1.060</td>\n",
       "      <td>-0.639</td>\n",
       "      <td>-0.652</td>\n",
       "    </tr>\n",
       "    <tr>\n",
       "      <th>1</th>\n",
       "      <td>4.274</td>\n",
       "      <td>3.891</td>\n",
       "      <td>1.213</td>\n",
       "      <td>0.163</td>\n",
       "      <td>-0.749</td>\n",
       "      <td>-0.154</td>\n",
       "      <td>4.382</td>\n",
       "    </tr>\n",
       "    <tr>\n",
       "      <th>2</th>\n",
       "      <td>-0.664</td>\n",
       "      <td>-0.654</td>\n",
       "      <td>0.331</td>\n",
       "      <td>-0.134</td>\n",
       "      <td>-0.745</td>\n",
       "      <td>-1.008</td>\n",
       "      <td>-0.686</td>\n",
       "    </tr>\n",
       "    <tr>\n",
       "      <th>3</th>\n",
       "      <td>-0.557</td>\n",
       "      <td>-0.394</td>\n",
       "      <td>-2.409</td>\n",
       "      <td>0.032</td>\n",
       "      <td>2.940</td>\n",
       "      <td>2.292</td>\n",
       "      <td>0.329</td>\n",
       "    </tr>\n",
       "    <tr>\n",
       "      <th>4</th>\n",
       "      <td>0.665</td>\n",
       "      <td>0.951</td>\n",
       "      <td>0.480</td>\n",
       "      <td>-0.333</td>\n",
       "      <td>-0.968</td>\n",
       "      <td>0.421</td>\n",
       "      <td>-0.333</td>\n",
       "    </tr>\n",
       "  </tbody>\n",
       "</table>\n",
       "</div>"
      ],
      "text/plain": [
       "   PCA_ESZK_JOVED  PCA_BEV_ARANYOS_JOVED  PCA_ELAD_MERTEKE  PCA_TOKE_ELLAT  \\\n",
       "0          -0.839                 -0.376             0.187          -0.500   \n",
       "1           4.274                  3.891             1.213           0.163   \n",
       "2          -0.664                 -0.654             0.331          -0.134   \n",
       "3          -0.557                 -0.394            -2.409           0.032   \n",
       "4           0.665                  0.951             0.480          -0.333   \n",
       "\n",
       "   PCA_LIKVID  PCA_MERET  PCA_FEDEZETTSEG  \n",
       "0      -1.060     -0.639           -0.652  \n",
       "1      -0.749     -0.154            4.382  \n",
       "2      -0.745     -1.008           -0.686  \n",
       "3       2.940      2.292            0.329  \n",
       "4      -0.968      0.421           -0.333  "
      ]
     },
     "execution_count": 13,
     "metadata": {},
     "output_type": "execute_result"
    }
   ],
   "source": [
    "compressed.head()"
   ]
  },
  {
   "cell_type": "markdown",
   "metadata": {},
   "source": [
    "A K-Means klaszterezés a következőképpen történik:"
   ]
  },
  {
   "cell_type": "code",
   "execution_count": 14,
   "metadata": {},
   "outputs": [],
   "source": [
    "kmeans = KMeans(n_clusters=10).fit(compressed)\n",
    "centroids = kmeans.cluster_centers_\n",
    "clustered = compressed.copy()\n",
    "clustered['CLUSTER'] = kmeans.labels_"
   ]
  },
  {
   "cell_type": "markdown",
   "metadata": {},
   "source": [
    "A klaszter centroidok főkomponens-átlag értékei:"
   ]
  },
  {
   "cell_type": "code",
   "execution_count": 15,
   "metadata": {},
   "outputs": [
    {
     "data": {
      "text/html": [
       "<div>\n",
       "<style scoped>\n",
       "    .dataframe tbody tr th:only-of-type {\n",
       "        vertical-align: middle;\n",
       "    }\n",
       "\n",
       "    .dataframe tbody tr th {\n",
       "        vertical-align: top;\n",
       "    }\n",
       "\n",
       "    .dataframe thead th {\n",
       "        text-align: right;\n",
       "    }\n",
       "</style>\n",
       "<table border=\"1\" class=\"dataframe\">\n",
       "  <thead>\n",
       "    <tr style=\"text-align: right;\">\n",
       "      <th></th>\n",
       "      <th>0</th>\n",
       "      <th>1</th>\n",
       "      <th>2</th>\n",
       "      <th>3</th>\n",
       "      <th>4</th>\n",
       "      <th>5</th>\n",
       "      <th>6</th>\n",
       "      <th>7</th>\n",
       "      <th>8</th>\n",
       "      <th>9</th>\n",
       "    </tr>\n",
       "  </thead>\n",
       "  <tbody>\n",
       "    <tr>\n",
       "      <th>PCA_ESZK_JOVED</th>\n",
       "      <td>0.892</td>\n",
       "      <td>-1.040</td>\n",
       "      <td>-0.392</td>\n",
       "      <td>3.490</td>\n",
       "      <td>-0.549</td>\n",
       "      <td>3.329</td>\n",
       "      <td>0.509</td>\n",
       "      <td>-0.725</td>\n",
       "      <td>-2.941</td>\n",
       "      <td>-0.749</td>\n",
       "    </tr>\n",
       "    <tr>\n",
       "      <th>PCA_BEV_ARANYOS_JOVED</th>\n",
       "      <td>1.009</td>\n",
       "      <td>-0.786</td>\n",
       "      <td>-0.062</td>\n",
       "      <td>2.541</td>\n",
       "      <td>-0.527</td>\n",
       "      <td>2.347</td>\n",
       "      <td>0.849</td>\n",
       "      <td>-0.622</td>\n",
       "      <td>-3.102</td>\n",
       "      <td>-0.319</td>\n",
       "    </tr>\n",
       "    <tr>\n",
       "      <th>PCA_ELAD_MERTEKE</th>\n",
       "      <td>-0.875</td>\n",
       "      <td>2.365</td>\n",
       "      <td>-0.140</td>\n",
       "      <td>-1.854</td>\n",
       "      <td>1.047</td>\n",
       "      <td>0.551</td>\n",
       "      <td>-2.425</td>\n",
       "      <td>-1.021</td>\n",
       "      <td>3.034</td>\n",
       "      <td>-1.796</td>\n",
       "    </tr>\n",
       "    <tr>\n",
       "      <th>PCA_TOKE_ELLAT</th>\n",
       "      <td>-0.079</td>\n",
       "      <td>2.717</td>\n",
       "      <td>-0.389</td>\n",
       "      <td>0.081</td>\n",
       "      <td>-0.995</td>\n",
       "      <td>-0.080</td>\n",
       "      <td>0.065</td>\n",
       "      <td>-0.109</td>\n",
       "      <td>2.543</td>\n",
       "      <td>-0.159</td>\n",
       "    </tr>\n",
       "    <tr>\n",
       "      <th>PCA_LIKVID</th>\n",
       "      <td>-0.139</td>\n",
       "      <td>-0.802</td>\n",
       "      <td>-0.579</td>\n",
       "      <td>1.314</td>\n",
       "      <td>-0.841</td>\n",
       "      <td>-0.596</td>\n",
       "      <td>5.305</td>\n",
       "      <td>-0.211</td>\n",
       "      <td>-0.957</td>\n",
       "      <td>4.134</td>\n",
       "    </tr>\n",
       "    <tr>\n",
       "      <th>PCA_MERET</th>\n",
       "      <td>-0.532</td>\n",
       "      <td>-0.557</td>\n",
       "      <td>2.150</td>\n",
       "      <td>-0.542</td>\n",
       "      <td>-0.134</td>\n",
       "      <td>-0.192</td>\n",
       "      <td>-0.617</td>\n",
       "      <td>-0.491</td>\n",
       "      <td>-0.155</td>\n",
       "      <td>0.122</td>\n",
       "    </tr>\n",
       "    <tr>\n",
       "      <th>PCA_FEDEZETTSEG</th>\n",
       "      <td>0.526</td>\n",
       "      <td>-0.818</td>\n",
       "      <td>-0.444</td>\n",
       "      <td>3.508</td>\n",
       "      <td>-0.678</td>\n",
       "      <td>0.447</td>\n",
       "      <td>3.660</td>\n",
       "      <td>-0.583</td>\n",
       "      <td>-1.279</td>\n",
       "      <td>0.198</td>\n",
       "    </tr>\n",
       "  </tbody>\n",
       "</table>\n",
       "</div>"
      ],
      "text/plain": [
       "                           0      1      2      3      4      5      6      7  \\\n",
       "PCA_ESZK_JOVED         0.892 -1.040 -0.392  3.490 -0.549  3.329  0.509 -0.725   \n",
       "PCA_BEV_ARANYOS_JOVED  1.009 -0.786 -0.062  2.541 -0.527  2.347  0.849 -0.622   \n",
       "PCA_ELAD_MERTEKE      -0.875  2.365 -0.140 -1.854  1.047  0.551 -2.425 -1.021   \n",
       "PCA_TOKE_ELLAT        -0.079  2.717 -0.389  0.081 -0.995 -0.080  0.065 -0.109   \n",
       "PCA_LIKVID            -0.139 -0.802 -0.579  1.314 -0.841 -0.596  5.305 -0.211   \n",
       "PCA_MERET             -0.532 -0.557  2.150 -0.542 -0.134 -0.192 -0.617 -0.491   \n",
       "PCA_FEDEZETTSEG        0.526 -0.818 -0.444  3.508 -0.678  0.447  3.660 -0.583   \n",
       "\n",
       "                           8      9  \n",
       "PCA_ESZK_JOVED        -2.941 -0.749  \n",
       "PCA_BEV_ARANYOS_JOVED -3.102 -0.319  \n",
       "PCA_ELAD_MERTEKE       3.034 -1.796  \n",
       "PCA_TOKE_ELLAT         2.543 -0.159  \n",
       "PCA_LIKVID            -0.957  4.134  \n",
       "PCA_MERET             -0.155  0.122  \n",
       "PCA_FEDEZETTSEG       -1.279  0.198  "
      ]
     },
     "metadata": {},
     "output_type": "display_data"
    }
   ],
   "source": [
    "display(pd.DataFrame(centroids, columns=compressed.columns).transpose())\n"
   ]
  },
  {
   "cell_type": "markdown",
   "metadata": {},
   "source": [
    "A klaszterek méretei:"
   ]
  },
  {
   "cell_type": "code",
   "execution_count": 16,
   "metadata": {},
   "outputs": [
    {
     "data": {
      "text/html": [
       "<div>\n",
       "<style scoped>\n",
       "    .dataframe tbody tr th:only-of-type {\n",
       "        vertical-align: middle;\n",
       "    }\n",
       "\n",
       "    .dataframe tbody tr th {\n",
       "        vertical-align: top;\n",
       "    }\n",
       "\n",
       "    .dataframe thead th {\n",
       "        text-align: right;\n",
       "    }\n",
       "</style>\n",
       "<table border=\"1\" class=\"dataframe\">\n",
       "  <thead>\n",
       "    <tr style=\"text-align: right;\">\n",
       "      <th></th>\n",
       "      <th>COUNT</th>\n",
       "    </tr>\n",
       "  </thead>\n",
       "  <tbody>\n",
       "    <tr>\n",
       "      <th>0</th>\n",
       "      <td>147</td>\n",
       "    </tr>\n",
       "    <tr>\n",
       "      <th>1</th>\n",
       "      <td>53</td>\n",
       "    </tr>\n",
       "    <tr>\n",
       "      <th>2</th>\n",
       "      <td>135</td>\n",
       "    </tr>\n",
       "    <tr>\n",
       "      <th>3</th>\n",
       "      <td>47</td>\n",
       "    </tr>\n",
       "    <tr>\n",
       "      <th>4</th>\n",
       "      <td>218</td>\n",
       "    </tr>\n",
       "    <tr>\n",
       "      <th>5</th>\n",
       "      <td>78</td>\n",
       "    </tr>\n",
       "    <tr>\n",
       "      <th>6</th>\n",
       "      <td>40</td>\n",
       "    </tr>\n",
       "    <tr>\n",
       "      <th>7</th>\n",
       "      <td>171</td>\n",
       "    </tr>\n",
       "    <tr>\n",
       "      <th>8</th>\n",
       "      <td>64</td>\n",
       "    </tr>\n",
       "    <tr>\n",
       "      <th>9</th>\n",
       "      <td>47</td>\n",
       "    </tr>\n",
       "  </tbody>\n",
       "</table>\n",
       "</div>"
      ],
      "text/plain": [
       "   COUNT\n",
       "0    147\n",
       "1     53\n",
       "2    135\n",
       "3     47\n",
       "4    218\n",
       "5     78\n",
       "6     40\n",
       "7    171\n",
       "8     64\n",
       "9     47"
      ]
     },
     "execution_count": 16,
     "metadata": {},
     "output_type": "execute_result"
    }
   ],
   "source": [
    "pd.DataFrame(clustered.groupby('CLUSTER').count().iloc[:,0].values, columns=['COUNT'])"
   ]
  },
  {
   "cell_type": "markdown",
   "metadata": {},
   "source": [
    "## 3. Diszkriminanciaanalízis segítségével a fentiekben elvégzett klaszterezés statisztikai megfelelőségének tesztelése\n",
    "A klaszterezés eredményének helytállóságát diszkriminancia analízissel ellenőrizzük. Ezt r-ben a legkönnyeb, ezért először exportáljuk a táblánkat, amely tartalmazza a klaszterezés eredményét."
   ]
  },
  {
   "cell_type": "code",
   "execution_count": 17,
   "metadata": {
    "scrolled": true
   },
   "outputs": [
    {
     "data": {
      "text/html": [
       "<div>\n",
       "<style scoped>\n",
       "    .dataframe tbody tr th:only-of-type {\n",
       "        vertical-align: middle;\n",
       "    }\n",
       "\n",
       "    .dataframe tbody tr th {\n",
       "        vertical-align: top;\n",
       "    }\n",
       "\n",
       "    .dataframe thead th {\n",
       "        text-align: right;\n",
       "    }\n",
       "</style>\n",
       "<table border=\"1\" class=\"dataframe\">\n",
       "  <thead>\n",
       "    <tr style=\"text-align: right;\">\n",
       "      <th></th>\n",
       "      <th>PCA_ESZK_JOVED</th>\n",
       "      <th>PCA_BEV_ARANYOS_JOVED</th>\n",
       "      <th>PCA_ELAD_MERTEKE</th>\n",
       "      <th>PCA_TOKE_ELLAT</th>\n",
       "      <th>PCA_LIKVID</th>\n",
       "      <th>PCA_MERET</th>\n",
       "      <th>PCA_FEDEZETTSEG</th>\n",
       "      <th>CLUSTER</th>\n",
       "    </tr>\n",
       "  </thead>\n",
       "  <tbody>\n",
       "    <tr>\n",
       "      <th>0</th>\n",
       "      <td>-0.839</td>\n",
       "      <td>-0.376</td>\n",
       "      <td>0.187</td>\n",
       "      <td>-0.500</td>\n",
       "      <td>-1.060</td>\n",
       "      <td>-0.639</td>\n",
       "      <td>-0.652</td>\n",
       "      <td>4</td>\n",
       "    </tr>\n",
       "    <tr>\n",
       "      <th>1</th>\n",
       "      <td>4.274</td>\n",
       "      <td>3.891</td>\n",
       "      <td>1.213</td>\n",
       "      <td>0.163</td>\n",
       "      <td>-0.749</td>\n",
       "      <td>-0.154</td>\n",
       "      <td>4.382</td>\n",
       "      <td>3</td>\n",
       "    </tr>\n",
       "    <tr>\n",
       "      <th>2</th>\n",
       "      <td>-0.664</td>\n",
       "      <td>-0.654</td>\n",
       "      <td>0.331</td>\n",
       "      <td>-0.134</td>\n",
       "      <td>-0.745</td>\n",
       "      <td>-1.008</td>\n",
       "      <td>-0.686</td>\n",
       "      <td>4</td>\n",
       "    </tr>\n",
       "    <tr>\n",
       "      <th>3</th>\n",
       "      <td>-0.557</td>\n",
       "      <td>-0.394</td>\n",
       "      <td>-2.409</td>\n",
       "      <td>0.032</td>\n",
       "      <td>2.940</td>\n",
       "      <td>2.292</td>\n",
       "      <td>0.329</td>\n",
       "      <td>9</td>\n",
       "    </tr>\n",
       "    <tr>\n",
       "      <th>4</th>\n",
       "      <td>0.665</td>\n",
       "      <td>0.951</td>\n",
       "      <td>0.480</td>\n",
       "      <td>-0.333</td>\n",
       "      <td>-0.968</td>\n",
       "      <td>0.421</td>\n",
       "      <td>-0.333</td>\n",
       "      <td>0</td>\n",
       "    </tr>\n",
       "  </tbody>\n",
       "</table>\n",
       "</div>"
      ],
      "text/plain": [
       "   PCA_ESZK_JOVED  PCA_BEV_ARANYOS_JOVED  PCA_ELAD_MERTEKE  PCA_TOKE_ELLAT  \\\n",
       "0          -0.839                 -0.376             0.187          -0.500   \n",
       "1           4.274                  3.891             1.213           0.163   \n",
       "2          -0.664                 -0.654             0.331          -0.134   \n",
       "3          -0.557                 -0.394            -2.409           0.032   \n",
       "4           0.665                  0.951             0.480          -0.333   \n",
       "\n",
       "   PCA_LIKVID  PCA_MERET  PCA_FEDEZETTSEG  CLUSTER  \n",
       "0      -1.060     -0.639           -0.652        4  \n",
       "1      -0.749     -0.154            4.382        3  \n",
       "2      -0.745     -1.008           -0.686        4  \n",
       "3       2.940      2.292            0.329        9  \n",
       "4      -0.968      0.421           -0.333        0  "
      ]
     },
     "metadata": {},
     "output_type": "display_data"
    }
   ],
   "source": [
    "display(clustered.head())\n",
    "\n",
    "clustered.to_excel('clustered.xlsx', index=False)"
   ]
  },
  {
   "cell_type": "markdown",
   "metadata": {},
   "source": [
    "Majd r-ben a `manova` függvénnyel tudjuk elvégezni az ANOVA tesztet:"
   ]
  },
  {
   "cell_type": "markdown",
   "metadata": {},
   "source": [
    "```r\n",
    "library(readxl)\n",
    "\n",
    "# Az adatok beolvasása\n",
    "clustered <- read_excel(\"clustered.xlsx\")\n",
    "\n",
    "# A CLUSTER értéket kategória változóként akarjuk beolvasni:\n",
    "clustered$CLUSTER <- factor(clustered$CLUSTER)\n",
    "\n",
    "# A változók összefűzése\n",
    "vars <- cbind(\n",
    "  PCA_ESZK_JOVED, \n",
    "  PCA_BEV_ARANYOS_JOVED, \n",
    "  PCA_ELAD_MERTEKE, \n",
    "  PCA_TOKE_ELLAT, \n",
    "  PCA_LIKVID, \n",
    "  PCA_MERET, \n",
    "  PCA_FEDEZETTSEG\n",
    ")\n",
    "\n",
    "# Anova elemzés\n",
    "test <- manova(vars ~ CLUSTER, data = clustered)\n",
    "\n",
    "# A végeredmény kiírása\n",
    "summary.aov(test)\n",
    "```"
   ]
  },
  {
   "cell_type": "markdown",
   "metadata": {},
   "source": [
    "Melynek eredménye a következő lett:"
   ]
  },
  {
   "cell_type": "markdown",
   "metadata": {},
   "source": [
    "```\n",
    "Response PCA_ESZK_JOVED :\n",
    "             Df  Sum Sq Mean Sq F value    Pr(>F)    \n",
    "CLUSTER       9 2384.85 264.983  486.41 < 2.2e-16 ***\n",
    "Residuals   990  539.33   0.545                      \n",
    "---\n",
    "Signif. codes:  0 ‘***’ 0.001 ‘**’ 0.01 ‘*’ 0.05 ‘.’ 0.1 ‘ ’ 1\n",
    "\n",
    " Response PCA_BEV_ARANYOS_JOVED :\n",
    "             Df  Sum Sq Mean Sq F value    Pr(>F)    \n",
    "CLUSTER       9 1684.48 187.164   234.6 < 2.2e-16 ***\n",
    "Residuals   990  789.81   0.798                      \n",
    "---\n",
    "Signif. codes:  0 ‘***’ 0.001 ‘**’ 0.01 ‘*’ 0.05 ‘.’ 0.1 ‘ ’ 1\n",
    "\n",
    " Response PCA_ELAD_MERTEKE :\n",
    "             Df  Sum Sq Mean Sq F value    Pr(>F)    \n",
    "CLUSTER       9 1980.69 220.076   385.5 < 2.2e-16 ***\n",
    "Residuals   990  565.18   0.571                      \n",
    "---\n",
    "Signif. codes:  0 ‘***’ 0.001 ‘**’ 0.01 ‘*’ 0.05 ‘.’ 0.1 ‘ ’ 1\n",
    "\n",
    " Response PCA_TOKE_ELLAT :\n",
    "             Df  Sum Sq Mean Sq F value    Pr(>F)    \n",
    "CLUSTER       9 1048.59 116.510  376.68 < 2.2e-16 ***\n",
    "Residuals   990  306.21   0.309                      \n",
    "---\n",
    "Signif. codes:  0 ‘***’ 0.001 ‘**’ 0.01 ‘*’ 0.05 ‘.’ 0.1 ‘ ’ 1\n",
    "\n",
    " Response PCA_LIKVID :\n",
    "             Df  Sum Sq Mean Sq F value    Pr(>F)    \n",
    "CLUSTER       9 2334.70 259.411  622.03 < 2.2e-16 ***\n",
    "Residuals   990  412.87   0.417                      \n",
    "---\n",
    "Signif. codes:  0 ‘***’ 0.001 ‘**’ 0.01 ‘*’ 0.05 ‘.’ 0.1 ‘ ’ 1\n",
    "\n",
    " Response PCA_MERET :\n",
    "             Df Sum Sq Mean Sq F value    Pr(>F)    \n",
    "CLUSTER       9 774.14  86.016  105.06 < 2.2e-16 ***\n",
    "Residuals   990 810.57   0.819                      \n",
    "---\n",
    "Signif. codes:  0 ‘***’ 0.001 ‘**’ 0.01 ‘*’ 0.05 ‘.’ 0.1 ‘ ’ 1\n",
    "\n",
    " Response PCA_FEDEZETTSEG :\n",
    "             Df  Sum Sq Mean Sq F value    Pr(>F)    \n",
    "CLUSTER       9 1497.46 166.385  523.31 < 2.2e-16 ***\n",
    "Residuals   990  314.76   0.318                      \n",
    "---\n",
    "Signif. codes:  0 ‘***’ 0.001 ‘**’ 0.01 ‘*’ 0.05 ‘.’ 0.1 ‘ ’ 1\n",
    "```"
   ]
  },
  {
   "cell_type": "markdown",
   "metadata": {},
   "source": [
    "A szokásos szignifikancia szinteken kijelenthetjük, hogy valamennyi főkomponenst megvizsgálva a létrejött csoportok között a főkomponens-átlagok szignifikánsan eltérnek egymástól. **A klaszterezés eredményeképpen előállt vállalatcsoportok tehát jelentősen különböznek egymástól.**"
   ]
  }
 ],
 "metadata": {
  "kernelspec": {
   "display_name": "Python 3",
   "language": "python",
   "name": "python3"
  },
  "language_info": {
   "codemirror_mode": {
    "name": "ipython",
    "version": 3
   },
   "file_extension": ".py",
   "mimetype": "text/x-python",
   "name": "python",
   "nbconvert_exporter": "python",
   "pygments_lexer": "ipython3",
   "version": "3.7.7"
  }
 },
 "nbformat": 4,
 "nbformat_minor": 4
}
