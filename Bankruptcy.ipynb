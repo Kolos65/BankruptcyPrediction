{
 "cells": [
  {
   "cell_type": "markdown",
   "metadata": {
    "scrolled": true
   },
   "source": [
    "Foltányi Kolos\n",
    "\n",
    "\n",
    "# Csődelőrejelzés Többáltozós Statisztikai Módszerekkel\n",
    "A csődelőrejelzés alapvető célja csődvalószínűség, illetve fizetőképességet kifejező score becslése az egyes megfigyelésekhez a magyarázó változók (pénzügyi mutatók) és a csődeseményt kifejező bináris célváltozó felhasználásával."
   ]
  },
  {
   "attachments": {},
   "cell_type": "markdown",
   "metadata": {},
   "source": [
    "## Csődmodellezési Adatbázis Építés\n",
    "\n",
    "Az adatgyűjtés tárgya a modell alkalmazásához várható célportfolióra reprezentatív adatbázis összeállítása. Ez a folyamat a következő feladatokat foglalja magában:\n",
    "\n",
    "**1. Az adatbázis elemzése alapvető leíró statisztikai jellemzők alapján** <br>\n",
    "**2. Pénzügyi mutató input változók megképzése** <br>\n",
    "**3. Hiányzó értékek, nullával való osztások kezelése imputációs módszerekkel** <br>\n",
    "**4. Bináris célváltozó (1/0 csődesemény) megképzése** <br>\n",
    "**5. Outlier értékek azonosítása és csonkolással történő kezelése**\n",
    "\n",
    "A kiinduló adatbázist a `database.xlsx` file-ból olvassuk be egy `rawdata` nevű dataframe-be."
   ]
  },
  {
   "cell_type": "code",
   "execution_count": 1,
   "metadata": {},
   "outputs": [
    {
     "data": {
      "text/html": [
       "<div>\n",
       "<style scoped>\n",
       "    .dataframe tbody tr th:only-of-type {\n",
       "        vertical-align: middle;\n",
       "    }\n",
       "\n",
       "    .dataframe tbody tr th {\n",
       "        vertical-align: top;\n",
       "    }\n",
       "\n",
       "    .dataframe thead th {\n",
       "        text-align: right;\n",
       "    }\n",
       "</style>\n",
       "<table border=\"1\" class=\"dataframe\">\n",
       "  <thead>\n",
       "    <tr style=\"text-align: right;\">\n",
       "      <th></th>\n",
       "      <th>BeszamoloTip</th>\n",
       "      <th>AllapotLeiras</th>\n",
       "      <th>FotevTEAOR</th>\n",
       "      <th>TeaorMegnevezes</th>\n",
       "      <th>MerlegFoossz</th>\n",
       "      <th>Arbevetel</th>\n",
       "      <th>SajatToke</th>\n",
       "      <th>AdozasUtEred</th>\n",
       "      <th>UzemiUzletiTevEred</th>\n",
       "      <th>ErtekcsokkLeir</th>\n",
       "      <th>...</th>\n",
       "      <th>Keszletek</th>\n",
       "      <th>KovetelesekVevok</th>\n",
       "      <th>KovetelesekSzallitok</th>\n",
       "      <th>RovidLejKot</th>\n",
       "      <th>HosszuLejKot</th>\n",
       "      <th>ElozoMerlegFoosszeg</th>\n",
       "      <th>ElozoSajatToke</th>\n",
       "      <th>ElozoArbevetel</th>\n",
       "      <th>ElozoPenzBeszEv</th>\n",
       "      <th>PenzBeszEv</th>\n",
       "    </tr>\n",
       "  </thead>\n",
       "  <tbody>\n",
       "    <tr>\n",
       "      <th>0</th>\n",
       "      <td>Egyszerűsített éves beszámoló (T 1711 AB) ERED...</td>\n",
       "      <td>Működik</td>\n",
       "      <td>4520</td>\n",
       "      <td>Gépjárműjavítás, -karbantartás</td>\n",
       "      <td>75262</td>\n",
       "      <td>20021</td>\n",
       "      <td>35321</td>\n",
       "      <td>925</td>\n",
       "      <td>1650</td>\n",
       "      <td>375.0</td>\n",
       "      <td>...</td>\n",
       "      <td>1105</td>\n",
       "      <td>190</td>\n",
       "      <td>39941.0</td>\n",
       "      <td>9941</td>\n",
       "      <td>30000</td>\n",
       "      <td>43555</td>\n",
       "      <td>24309</td>\n",
       "      <td>21590</td>\n",
       "      <td>2013</td>\n",
       "      <td>2014</td>\n",
       "    </tr>\n",
       "    <tr>\n",
       "      <th>1</th>\n",
       "      <td>Egyszerűsített éves beszámoló összköltség eljá...</td>\n",
       "      <td>Működik</td>\n",
       "      <td>7112</td>\n",
       "      <td>Mérnöki tevékenység, műszaki tanácsadás</td>\n",
       "      <td>23341</td>\n",
       "      <td>131493</td>\n",
       "      <td>2230</td>\n",
       "      <td>75443</td>\n",
       "      <td>84123</td>\n",
       "      <td>509.0</td>\n",
       "      <td>...</td>\n",
       "      <td>0</td>\n",
       "      <td>18952</td>\n",
       "      <td>21042.0</td>\n",
       "      <td>21042</td>\n",
       "      <td>0</td>\n",
       "      <td>45304</td>\n",
       "      <td>2557</td>\n",
       "      <td>130186</td>\n",
       "      <td>2013</td>\n",
       "      <td>2014</td>\n",
       "    </tr>\n",
       "    <tr>\n",
       "      <th>2</th>\n",
       "      <td>Egyszerűsített éves beszámoló (T 1711 AB) ERED...</td>\n",
       "      <td>Működik</td>\n",
       "      <td>4520</td>\n",
       "      <td>Gépjárműjavítás, -karbantartás</td>\n",
       "      <td>16100</td>\n",
       "      <td>42927</td>\n",
       "      <td>4973</td>\n",
       "      <td>616</td>\n",
       "      <td>684</td>\n",
       "      <td>200.0</td>\n",
       "      <td>...</td>\n",
       "      <td>1413</td>\n",
       "      <td>10879</td>\n",
       "      <td>11127.0</td>\n",
       "      <td>9704</td>\n",
       "      <td>1423</td>\n",
       "      <td>15230</td>\n",
       "      <td>4356</td>\n",
       "      <td>38098</td>\n",
       "      <td>2013</td>\n",
       "      <td>2014</td>\n",
       "    </tr>\n",
       "    <tr>\n",
       "      <th>3</th>\n",
       "      <td>Éves beszámoló (T 1710 AB) EREDMÉNYKIMUTATÁS/É...</td>\n",
       "      <td>Működik</td>\n",
       "      <td>2823</td>\n",
       "      <td>Irodagép gyártása (kivéve: számítógép és perif...</td>\n",
       "      <td>473527</td>\n",
       "      <td>562055</td>\n",
       "      <td>433425</td>\n",
       "      <td>22970</td>\n",
       "      <td>23854</td>\n",
       "      <td>12383.0</td>\n",
       "      <td>...</td>\n",
       "      <td>47761</td>\n",
       "      <td>92124</td>\n",
       "      <td>37313.0</td>\n",
       "      <td>37313</td>\n",
       "      <td>0</td>\n",
       "      <td>493642</td>\n",
       "      <td>425954</td>\n",
       "      <td>578729</td>\n",
       "      <td>2013</td>\n",
       "      <td>2014</td>\n",
       "    </tr>\n",
       "    <tr>\n",
       "      <th>4</th>\n",
       "      <td>Egyszerűsített éves beszámoló összköltség eljá...</td>\n",
       "      <td>Működik</td>\n",
       "      <td>9601</td>\n",
       "      <td>Textil, szőrme mosása, tisztítása</td>\n",
       "      <td>84019</td>\n",
       "      <td>110389</td>\n",
       "      <td>31587</td>\n",
       "      <td>3109</td>\n",
       "      <td>3791</td>\n",
       "      <td>20753.0</td>\n",
       "      <td>...</td>\n",
       "      <td>1005</td>\n",
       "      <td>18471</td>\n",
       "      <td>45473.0</td>\n",
       "      <td>35397</td>\n",
       "      <td>10076</td>\n",
       "      <td>54224</td>\n",
       "      <td>22478</td>\n",
       "      <td>70873</td>\n",
       "      <td>2013</td>\n",
       "      <td>2014</td>\n",
       "    </tr>\n",
       "  </tbody>\n",
       "</table>\n",
       "<p>5 rows × 25 columns</p>\n",
       "</div>"
      ],
      "text/plain": [
       "                                        BeszamoloTip AllapotLeiras  \\\n",
       "0  Egyszerűsített éves beszámoló (T 1711 AB) ERED...       Működik   \n",
       "1  Egyszerűsített éves beszámoló összköltség eljá...       Működik   \n",
       "2  Egyszerűsített éves beszámoló (T 1711 AB) ERED...       Működik   \n",
       "3  Éves beszámoló (T 1710 AB) EREDMÉNYKIMUTATÁS/É...       Működik   \n",
       "4  Egyszerűsített éves beszámoló összköltség eljá...       Működik   \n",
       "\n",
       "   FotevTEAOR                                    TeaorMegnevezes  \\\n",
       "0        4520                     Gépjárműjavítás, -karbantartás   \n",
       "1        7112            Mérnöki tevékenység, műszaki tanácsadás   \n",
       "2        4520                     Gépjárműjavítás, -karbantartás   \n",
       "3        2823  Irodagép gyártása (kivéve: számítógép és perif...   \n",
       "4        9601                  Textil, szőrme mosása, tisztítása   \n",
       "\n",
       "   MerlegFoossz  Arbevetel  SajatToke  AdozasUtEred  UzemiUzletiTevEred  \\\n",
       "0         75262      20021      35321           925                1650   \n",
       "1         23341     131493       2230         75443               84123   \n",
       "2         16100      42927       4973           616                 684   \n",
       "3        473527     562055     433425         22970               23854   \n",
       "4         84019     110389      31587          3109                3791   \n",
       "\n",
       "   ErtekcsokkLeir  ...  Keszletek  KovetelesekVevok  KovetelesekSzallitok  \\\n",
       "0           375.0  ...       1105               190               39941.0   \n",
       "1           509.0  ...          0             18952               21042.0   \n",
       "2           200.0  ...       1413             10879               11127.0   \n",
       "3         12383.0  ...      47761             92124               37313.0   \n",
       "4         20753.0  ...       1005             18471               45473.0   \n",
       "\n",
       "   RovidLejKot  HosszuLejKot  ElozoMerlegFoosszeg  ElozoSajatToke  \\\n",
       "0         9941         30000                43555           24309   \n",
       "1        21042             0                45304            2557   \n",
       "2         9704          1423                15230            4356   \n",
       "3        37313             0               493642          425954   \n",
       "4        35397         10076                54224           22478   \n",
       "\n",
       "   ElozoArbevetel  ElozoPenzBeszEv  PenzBeszEv  \n",
       "0           21590             2013        2014  \n",
       "1          130186             2013        2014  \n",
       "2           38098             2013        2014  \n",
       "3          578729             2013        2014  \n",
       "4           70873             2013        2014  \n",
       "\n",
       "[5 rows x 25 columns]"
      ]
     },
     "execution_count": 1,
     "metadata": {},
     "output_type": "execute_result"
    }
   ],
   "source": [
    "import matplotlib.pyplot as plt\n",
    "import statistics as stats\n",
    "import numpy as np\n",
    "import pandas as pd\n",
    "import math\n",
    "\n",
    "rawdata = pd.read_excel('database.xlsx').fillna(0)\n",
    "\n",
    "rawdata.head()"
   ]
  },
  {
   "cell_type": "markdown",
   "metadata": {},
   "source": [
    "## 1. Az adatbázis elemzése alapvető leíró statisztikai jellemzők alapján\n",
    "Az adatbázis elemzésénél a darabszám, átlag, szórás, minimum, maximum valamint a 25%, 50% és 75% percentilisek kerültek kiszámításra az összes pénzügyi mutatószámhoz."
   ]
  },
  {
   "cell_type": "code",
   "execution_count": 2,
   "metadata": {},
   "outputs": [
    {
     "data": {
      "text/html": [
       "<div>\n",
       "<style scoped>\n",
       "    .dataframe tbody tr th:only-of-type {\n",
       "        vertical-align: middle;\n",
       "    }\n",
       "\n",
       "    .dataframe tbody tr th {\n",
       "        vertical-align: top;\n",
       "    }\n",
       "\n",
       "    .dataframe thead th {\n",
       "        text-align: right;\n",
       "    }\n",
       "</style>\n",
       "<table border=\"1\" class=\"dataframe\">\n",
       "  <thead>\n",
       "    <tr style=\"text-align: right;\">\n",
       "      <th></th>\n",
       "      <th>MerlegFoossz</th>\n",
       "      <th>Arbevetel</th>\n",
       "      <th>SajatToke</th>\n",
       "      <th>AdozasUtEred</th>\n",
       "      <th>UzemiUzletiTevEred</th>\n",
       "      <th>ErtekcsokkLeir</th>\n",
       "      <th>TargyiEszk</th>\n",
       "    </tr>\n",
       "  </thead>\n",
       "  <tbody>\n",
       "    <tr>\n",
       "      <th>count</th>\n",
       "      <td>1000.00</td>\n",
       "      <td>1000.00</td>\n",
       "      <td>1000.00</td>\n",
       "      <td>1000.00</td>\n",
       "      <td>1000.00</td>\n",
       "      <td>1000.00</td>\n",
       "      <td>1000.00</td>\n",
       "    </tr>\n",
       "    <tr>\n",
       "      <th>mean</th>\n",
       "      <td>467276.11</td>\n",
       "      <td>412486.35</td>\n",
       "      <td>233583.26</td>\n",
       "      <td>-63672.63</td>\n",
       "      <td>-56471.08</td>\n",
       "      <td>16982.99</td>\n",
       "      <td>169319.25</td>\n",
       "    </tr>\n",
       "    <tr>\n",
       "      <th>std</th>\n",
       "      <td>3852837.37</td>\n",
       "      <td>4082148.40</td>\n",
       "      <td>3069293.66</td>\n",
       "      <td>2705483.40</td>\n",
       "      <td>2763547.25</td>\n",
       "      <td>203963.54</td>\n",
       "      <td>1166287.50</td>\n",
       "    </tr>\n",
       "    <tr>\n",
       "      <th>min</th>\n",
       "      <td>10026.00</td>\n",
       "      <td>10016.00</td>\n",
       "      <td>-3954139.00</td>\n",
       "      <td>-83875550.00</td>\n",
       "      <td>-85231763.00</td>\n",
       "      <td>0.00</td>\n",
       "      <td>0.00</td>\n",
       "    </tr>\n",
       "    <tr>\n",
       "      <th>25%</th>\n",
       "      <td>20647.75</td>\n",
       "      <td>27917.00</td>\n",
       "      <td>5188.75</td>\n",
       "      <td>198.75</td>\n",
       "      <td>345.25</td>\n",
       "      <td>288.75</td>\n",
       "      <td>902.25</td>\n",
       "    </tr>\n",
       "    <tr>\n",
       "      <th>50%</th>\n",
       "      <td>43807.50</td>\n",
       "      <td>59141.00</td>\n",
       "      <td>14258.00</td>\n",
       "      <td>2246.50</td>\n",
       "      <td>3029.50</td>\n",
       "      <td>1157.00</td>\n",
       "      <td>6188.50</td>\n",
       "    </tr>\n",
       "    <tr>\n",
       "      <th>75%</th>\n",
       "      <td>136305.00</td>\n",
       "      <td>166946.50</td>\n",
       "      <td>42680.00</td>\n",
       "      <td>9770.25</td>\n",
       "      <td>11259.00</td>\n",
       "      <td>3623.75</td>\n",
       "      <td>35919.75</td>\n",
       "    </tr>\n",
       "    <tr>\n",
       "      <th>max</th>\n",
       "      <td>85786071.00</td>\n",
       "      <td>124239296.00</td>\n",
       "      <td>77984400.00</td>\n",
       "      <td>15752789.00</td>\n",
       "      <td>18636439.00</td>\n",
       "      <td>6008926.00</td>\n",
       "      <td>22458472.00</td>\n",
       "    </tr>\n",
       "  </tbody>\n",
       "</table>\n",
       "</div>"
      ],
      "text/plain": [
       "       MerlegFoossz    Arbevetel   SajatToke  AdozasUtEred  \\\n",
       "count       1000.00      1000.00     1000.00       1000.00   \n",
       "mean      467276.11    412486.35   233583.26     -63672.63   \n",
       "std      3852837.37   4082148.40  3069293.66    2705483.40   \n",
       "min        10026.00     10016.00 -3954139.00  -83875550.00   \n",
       "25%        20647.75     27917.00     5188.75        198.75   \n",
       "50%        43807.50     59141.00    14258.00       2246.50   \n",
       "75%       136305.00    166946.50    42680.00       9770.25   \n",
       "max     85786071.00 124239296.00 77984400.00   15752789.00   \n",
       "\n",
       "       UzemiUzletiTevEred  ErtekcsokkLeir  TargyiEszk  \n",
       "count             1000.00         1000.00     1000.00  \n",
       "mean            -56471.08        16982.99   169319.25  \n",
       "std            2763547.25       203963.54  1166287.50  \n",
       "min          -85231763.00            0.00        0.00  \n",
       "25%                345.25          288.75      902.25  \n",
       "50%               3029.50         1157.00     6188.50  \n",
       "75%              11259.00         3623.75    35919.75  \n",
       "max           18636439.00      6008926.00 22458472.00  "
      ]
     },
     "execution_count": 2,
     "metadata": {},
     "output_type": "execute_result"
    }
   ],
   "source": [
    "summary = rawdata.describe().iloc[:,1:20]\n",
    "\n",
    "pd.options.display.float_format = '{:.2f}'.format\n",
    "\n",
    "summary.iloc[:,0:7]"
   ]
  },
  {
   "cell_type": "code",
   "execution_count": 3,
   "metadata": {},
   "outputs": [
    {
     "data": {
      "text/html": [
       "<div>\n",
       "<style scoped>\n",
       "    .dataframe tbody tr th:only-of-type {\n",
       "        vertical-align: middle;\n",
       "    }\n",
       "\n",
       "    .dataframe tbody tr th {\n",
       "        vertical-align: top;\n",
       "    }\n",
       "\n",
       "    .dataframe thead th {\n",
       "        text-align: right;\n",
       "    }\n",
       "</style>\n",
       "<table border=\"1\" class=\"dataframe\">\n",
       "  <thead>\n",
       "    <tr style=\"text-align: right;\">\n",
       "      <th></th>\n",
       "      <th>BefEszk</th>\n",
       "      <th>PenzEszk</th>\n",
       "      <th>Ertekpapirok</th>\n",
       "      <th>ForgoEszk</th>\n",
       "      <th>Keszletek</th>\n",
       "      <th>KovetelesekVevok</th>\n",
       "      <th>KovetelesekSzallitok</th>\n",
       "    </tr>\n",
       "  </thead>\n",
       "  <tbody>\n",
       "    <tr>\n",
       "      <th>count</th>\n",
       "      <td>1000.00</td>\n",
       "      <td>1000.00</td>\n",
       "      <td>1000.00</td>\n",
       "      <td>1000.00</td>\n",
       "      <td>1000.00</td>\n",
       "      <td>1000.00</td>\n",
       "      <td>1000.00</td>\n",
       "    </tr>\n",
       "    <tr>\n",
       "      <th>mean</th>\n",
       "      <td>187828.49</td>\n",
       "      <td>22897.22</td>\n",
       "      <td>2599.66</td>\n",
       "      <td>261255.10</td>\n",
       "      <td>46359.61</td>\n",
       "      <td>189400.07</td>\n",
       "      <td>211775.94</td>\n",
       "    </tr>\n",
       "    <tr>\n",
       "      <th>std</th>\n",
       "      <td>1194236.26</td>\n",
       "      <td>85084.29</td>\n",
       "      <td>32098.75</td>\n",
       "      <td>3158575.80</td>\n",
       "      <td>435026.79</td>\n",
       "      <td>2997634.61</td>\n",
       "      <td>1194094.57</td>\n",
       "    </tr>\n",
       "    <tr>\n",
       "      <th>min</th>\n",
       "      <td>0.00</td>\n",
       "      <td>0.00</td>\n",
       "      <td>0.00</td>\n",
       "      <td>29.00</td>\n",
       "      <td>0.00</td>\n",
       "      <td>0.00</td>\n",
       "      <td>0.00</td>\n",
       "    </tr>\n",
       "    <tr>\n",
       "      <th>25%</th>\n",
       "      <td>1163.50</td>\n",
       "      <td>1287.00</td>\n",
       "      <td>0.00</td>\n",
       "      <td>12686.50</td>\n",
       "      <td>0.00</td>\n",
       "      <td>3001.00</td>\n",
       "      <td>9644.25</td>\n",
       "    </tr>\n",
       "    <tr>\n",
       "      <th>50%</th>\n",
       "      <td>7786.00</td>\n",
       "      <td>4961.50</td>\n",
       "      <td>0.00</td>\n",
       "      <td>26047.50</td>\n",
       "      <td>447.00</td>\n",
       "      <td>11120.50</td>\n",
       "      <td>22635.00</td>\n",
       "    </tr>\n",
       "    <tr>\n",
       "      <th>75%</th>\n",
       "      <td>43812.50</td>\n",
       "      <td>13096.25</td>\n",
       "      <td>0.00</td>\n",
       "      <td>65847.50</td>\n",
       "      <td>8859.25</td>\n",
       "      <td>31697.50</td>\n",
       "      <td>78555.25</td>\n",
       "    </tr>\n",
       "    <tr>\n",
       "      <th>max</th>\n",
       "      <td>23313842.00</td>\n",
       "      <td>1115466.00</td>\n",
       "      <td>822580.00</td>\n",
       "      <td>84197553.00</td>\n",
       "      <td>9219831.00</td>\n",
       "      <td>84194336.00</td>\n",
       "      <td>22801319.00</td>\n",
       "    </tr>\n",
       "  </tbody>\n",
       "</table>\n",
       "</div>"
      ],
      "text/plain": [
       "          BefEszk   PenzEszk  Ertekpapirok   ForgoEszk  Keszletek  \\\n",
       "count     1000.00    1000.00       1000.00     1000.00    1000.00   \n",
       "mean    187828.49   22897.22       2599.66   261255.10   46359.61   \n",
       "std    1194236.26   85084.29      32098.75  3158575.80  435026.79   \n",
       "min          0.00       0.00          0.00       29.00       0.00   \n",
       "25%       1163.50    1287.00          0.00    12686.50       0.00   \n",
       "50%       7786.00    4961.50          0.00    26047.50     447.00   \n",
       "75%      43812.50   13096.25          0.00    65847.50    8859.25   \n",
       "max   23313842.00 1115466.00     822580.00 84197553.00 9219831.00   \n",
       "\n",
       "       KovetelesekVevok  KovetelesekSzallitok  \n",
       "count           1000.00               1000.00  \n",
       "mean          189400.07             211775.94  \n",
       "std          2997634.61            1194094.57  \n",
       "min                0.00                  0.00  \n",
       "25%             3001.00               9644.25  \n",
       "50%            11120.50              22635.00  \n",
       "75%            31697.50              78555.25  \n",
       "max         84194336.00           22801319.00  "
      ]
     },
     "execution_count": 3,
     "metadata": {},
     "output_type": "execute_result"
    }
   ],
   "source": [
    "summary.iloc[:,7:14]"
   ]
  },
  {
   "cell_type": "code",
   "execution_count": 4,
   "metadata": {},
   "outputs": [
    {
     "data": {
      "text/html": [
       "<div>\n",
       "<style scoped>\n",
       "    .dataframe tbody tr th:only-of-type {\n",
       "        vertical-align: middle;\n",
       "    }\n",
       "\n",
       "    .dataframe tbody tr th {\n",
       "        vertical-align: top;\n",
       "    }\n",
       "\n",
       "    .dataframe thead th {\n",
       "        text-align: right;\n",
       "    }\n",
       "</style>\n",
       "<table border=\"1\" class=\"dataframe\">\n",
       "  <thead>\n",
       "    <tr style=\"text-align: right;\">\n",
       "      <th></th>\n",
       "      <th>RovidLejKot</th>\n",
       "      <th>HosszuLejKot</th>\n",
       "      <th>ElozoMerlegFoosszeg</th>\n",
       "      <th>ElozoSajatToke</th>\n",
       "      <th>ElozoArbevetel</th>\n",
       "    </tr>\n",
       "  </thead>\n",
       "  <tbody>\n",
       "    <tr>\n",
       "      <th>count</th>\n",
       "      <td>1000.00</td>\n",
       "      <td>1000.00</td>\n",
       "      <td>1000.00</td>\n",
       "      <td>1000.00</td>\n",
       "      <td>1000.00</td>\n",
       "    </tr>\n",
       "    <tr>\n",
       "      <th>mean</th>\n",
       "      <td>125440.02</td>\n",
       "      <td>70075.88</td>\n",
       "      <td>462583.20</td>\n",
       "      <td>261959.49</td>\n",
       "      <td>394492.35</td>\n",
       "    </tr>\n",
       "    <tr>\n",
       "      <th>std</th>\n",
       "      <td>635485.94</td>\n",
       "      <td>682586.36</td>\n",
       "      <td>4812501.83</td>\n",
       "      <td>4456089.54</td>\n",
       "      <td>3497749.68</td>\n",
       "    </tr>\n",
       "    <tr>\n",
       "      <th>min</th>\n",
       "      <td>0.00</td>\n",
       "      <td>0.00</td>\n",
       "      <td>0.00</td>\n",
       "      <td>-275789.00</td>\n",
       "      <td>0.00</td>\n",
       "    </tr>\n",
       "    <tr>\n",
       "      <th>25%</th>\n",
       "      <td>7295.25</td>\n",
       "      <td>0.00</td>\n",
       "      <td>15303.75</td>\n",
       "      <td>3443.00</td>\n",
       "      <td>20797.00</td>\n",
       "    </tr>\n",
       "    <tr>\n",
       "      <th>50%</th>\n",
       "      <td>17676.00</td>\n",
       "      <td>0.00</td>\n",
       "      <td>36411.00</td>\n",
       "      <td>11095.00</td>\n",
       "      <td>48124.50</td>\n",
       "    </tr>\n",
       "    <tr>\n",
       "      <th>75%</th>\n",
       "      <td>57933.50</td>\n",
       "      <td>4415.00</td>\n",
       "      <td>113466.50</td>\n",
       "      <td>40399.00</td>\n",
       "      <td>136602.25</td>\n",
       "    </tr>\n",
       "    <tr>\n",
       "      <th>max</th>\n",
       "      <td>12924803.00</td>\n",
       "      <td>18834823.00</td>\n",
       "      <td>137975662.00</td>\n",
       "      <td>134713597.00</td>\n",
       "      <td>104131231.00</td>\n",
       "    </tr>\n",
       "  </tbody>\n",
       "</table>\n",
       "</div>"
      ],
      "text/plain": [
       "       RovidLejKot  HosszuLejKot  ElozoMerlegFoosszeg  ElozoSajatToke  \\\n",
       "count      1000.00       1000.00              1000.00         1000.00   \n",
       "mean     125440.02      70075.88            462583.20       261959.49   \n",
       "std      635485.94     682586.36           4812501.83      4456089.54   \n",
       "min           0.00          0.00                 0.00      -275789.00   \n",
       "25%        7295.25          0.00             15303.75         3443.00   \n",
       "50%       17676.00          0.00             36411.00        11095.00   \n",
       "75%       57933.50       4415.00            113466.50        40399.00   \n",
       "max    12924803.00   18834823.00         137975662.00    134713597.00   \n",
       "\n",
       "       ElozoArbevetel  \n",
       "count         1000.00  \n",
       "mean        394492.35  \n",
       "std        3497749.68  \n",
       "min              0.00  \n",
       "25%          20797.00  \n",
       "50%          48124.50  \n",
       "75%         136602.25  \n",
       "max      104131231.00  "
      ]
     },
     "execution_count": 4,
     "metadata": {},
     "output_type": "execute_result"
    }
   ],
   "source": [
    "summary.iloc[:,14:]"
   ]
  },
  {
   "cell_type": "code",
   "execution_count": 5,
   "metadata": {},
   "outputs": [
    {
     "data": {
      "image/png": "[encoded data removed]",
      "text/plain": [
       "<Figure size 432x288 with 1 Axes>"
      ]
     },
     "metadata": {
      "needs_background": "light"
     },
     "output_type": "display_data"
    }
   ],
   "source": [
    "summary.loc['mean',:].plot.bar(title='Átlag');"
   ]
  },
  {
   "cell_type": "code",
   "execution_count": 6,
   "metadata": {},
   "outputs": [
    {
     "data": {
      "image/png": "[encoded data removed]",
      "text/plain": [
       "<Figure size 432x288 with 1 Axes>"
      ]
     },
     "metadata": {
      "needs_background": "light"
     },
     "output_type": "display_data"
    }
   ],
   "source": [
    "summary.loc['std',:].plot.bar(title='Szórás');"
   ]
  },
  {
   "cell_type": "markdown",
   "metadata": {},
   "source": [
    "## 2. Pénzügyi mutató input változók megképzése\n",
    "Az alábbi függvények egy új data frame létrehozását szolgálják, mely a kiszámolt pénzügyi mutatószámokat foglalja magában. A szabálytalanul számolt (0-val való osztás, kettős negatív osztás, ...) értékek helyére az őket helyettesítő imputációs módszert jelölő konstansok kerülnek. A számítások után a konstansokból segédfüggvényekkel számolható a megfelelő imputációs módszerrel a helyettesítő érték. A gyakori helyettesítő szabályok alkalmazását a lent definiált függvények segítik."
   ]
  },
  {
   "cell_type": "code",
   "execution_count": 7,
   "metadata": {},
   "outputs": [],
   "source": [
    "MIN_IMPUT = \"MIN_IMPUT\"\n",
    "MAX_IMPUT = \"MAX_IMPUT\"\n",
    "MEDIAN_IMPUT = \"MEDIAN_IMPUT\"\n",
    "\n",
    "def fullImputated(numerator, denominator):\n",
    "    if denominator == 0 and numerator > 0:\n",
    "        return MAX_IMPUT\n",
    "    elif denominator == 0 and numerator == 0:\n",
    "        return MEDIAN_IMPUT\n",
    "    elif denominator == 0 and numerator < 0:\n",
    "        return MIN_IMPUT\n",
    "    else:\n",
    "        return numerator / denominator\n",
    "    \n",
    "def zeroDivisionImputated(numerator, denominator):\n",
    "    if denominator == 0:\n",
    "        return MAX_IMPUT\n",
    "    else:\n",
    "        return numerator / denominator"
   ]
  },
  {
   "cell_type": "markdown",
   "metadata": {},
   "source": [
    "**Sajáttőke-arányos nyereség (ROE) számítása:** <br>\n",
    "Adózott eredmény / Átlagos saját tőke"
   ]
  },
  {
   "cell_type": "code",
   "execution_count": 8,
   "metadata": {},
   "outputs": [],
   "source": [
    "def calcROE(data):\n",
    "    result = []\n",
    "    for index, row in data.iterrows():\n",
    "        auEredm = row['AdozasUtEred']\n",
    "        meanST = (row['SajatToke'] + row['ElozoSajatToke'])/2\n",
    "        if auEredm < 0 and meanST < 0:\n",
    "            result.append(MIN_IMPUT)\n",
    "        elif meanST == 0:\n",
    "            result.append(MIN_IMPUT)\n",
    "        else:\n",
    "            result.append(auEredm / meanST)\n",
    "    return result"
   ]
  },
  {
   "cell_type": "markdown",
   "metadata": {},
   "source": [
    "**Eszközarányos nyereség (ROA):** <br>\n",
    "Adózott eredmény / Átlagos mérlegfőösszeg"
   ]
  },
  {
   "cell_type": "code",
   "execution_count": 9,
   "metadata": {},
   "outputs": [],
   "source": [
    "def calcROA(data):\n",
    "    meanMFO = (data['MerlegFoossz'] + data['ElozoMerlegFoosszeg'])/2\n",
    "    return data['AdozasUtEred'] / meanMFO"
   ]
  },
  {
   "cell_type": "markdown",
   "metadata": {},
   "source": [
    "**EBITDA jövedelmezőség:** <br>\n",
    "(Üzemi tevékenység eredménye + Értékcsökkenési leírás) / Átlagos mérlegfőösszeg"
   ]
  },
  {
   "cell_type": "code",
   "execution_count": 10,
   "metadata": {},
   "outputs": [],
   "source": [
    "def calcEBITDA(data):\n",
    "    result = []\n",
    "    for index, row in data.iterrows():\n",
    "        numer = row['UzemiUzletiTevEred'] + row['ErtekcsokkLeir']\n",
    "        denom = (row['MerlegFoossz'] + row['ElozoMerlegFoosszeg'])/2\n",
    "        ans = fullImputated(numer, denom)\n",
    "        result.append(ans)\n",
    "    return result"
   ]
  },
  {
   "cell_type": "markdown",
   "metadata": {},
   "source": [
    "**Árbevételarányos nyereség (ROS):** <br>\n",
    "Üzemi (üzleti) tevékenység eredménye / Értékesítés nettó árbevétele"
   ]
  },
  {
   "cell_type": "code",
   "execution_count": 11,
   "metadata": {},
   "outputs": [],
   "source": [
    "def calcROS(data):\n",
    "    numerator = data['UzemiUzletiTevEred'] + data['ErtekcsokkLeir']\n",
    "    return numerator / data['Arbevetel']"
   ]
  },
  {
   "cell_type": "markdown",
   "metadata": {},
   "source": [
    "**Árbevételarányos EBITDA:** <br>\n",
    "(Üzemi (üzleti) tevékenység eredménye + Értékcsökkenési leírás) / Értékesítés nettó árbevétele "
   ]
  },
  {
   "cell_type": "code",
   "execution_count": 12,
   "metadata": {},
   "outputs": [],
   "source": [
    "def calcARBEV_ARANYOS_EBITDA(data):\n",
    "    result = []\n",
    "    for index, row in data.iterrows():\n",
    "        numer = row['UzemiUzletiTevEred'] + row['ErtekcsokkLeir']\n",
    "        denom = row['Arbevetel']\n",
    "        ans = fullImputated(numer, denom)\n",
    "        result.append(ans)\n",
    "    return result"
   ]
  },
  {
   "cell_type": "markdown",
   "metadata": {},
   "source": [
    "**Eszközarányos árbevétel (fordulatszám):** <br>\n",
    "Értékesítés nettó árbevétele / Átlagos mérlegfőösszeg"
   ]
  },
  {
   "cell_type": "code",
   "execution_count": 13,
   "metadata": {},
   "outputs": [],
   "source": [
    "def calcESZK_ARANYOS_ARBEV(data):\n",
    "    result = []\n",
    "    for index, row in data.iterrows():\n",
    "        numer = row['Arbevetel']\n",
    "        denom = (row['MerlegFoossz'] + row['ElozoMerlegFoosszeg'])/2\n",
    "        ans = fullImputated(numer, denom)\n",
    "        result.append(ans)\n",
    "    return result"
   ]
  },
  {
   "cell_type": "markdown",
   "metadata": {},
   "source": [
    "**Készletek forgási sebessége (fordulatszám):** <br>\n",
    "Értékesítés nettó árbevétele / Átlagos készletállomány"
   ]
  },
  {
   "cell_type": "code",
   "execution_count": 14,
   "metadata": {},
   "outputs": [],
   "source": [
    "def calcKESZLET_FORG_SEB(data):\n",
    "    result = []\n",
    "    for index, row in data.iterrows():\n",
    "        numer = row['Arbevetel']\n",
    "        denom = row['Keszletek']\n",
    "        ans = fullImputated(numer, denom)\n",
    "        result.append(ans)\n",
    "    return result"
   ]
  },
  {
   "cell_type": "markdown",
   "metadata": {},
   "source": [
    "**Vevők forgási sebessége (fordulatszám):** <br>\n",
    "Értékesítés nettó árbevétele / Átlagos vevőállomány"
   ]
  },
  {
   "cell_type": "code",
   "execution_count": 15,
   "metadata": {},
   "outputs": [],
   "source": [
    "def calcESZK_FORG_SEB(data):\n",
    "    result = []\n",
    "    for index, row in data.iterrows():\n",
    "        numer = row['Arbevetel']\n",
    "        denom = row['KovetelesekVevok']\n",
    "        ans = fullImputated(numer, denom)\n",
    "        result.append(ans)\n",
    "    return result"
   ]
  },
  {
   "cell_type": "markdown",
   "metadata": {},
   "source": [
    "**Likviditási ráta:** <br>\n",
    "Forgóeszközök / Rövid lejáratú kötelezettségek"
   ]
  },
  {
   "cell_type": "code",
   "execution_count": 16,
   "metadata": {},
   "outputs": [],
   "source": [
    "def calcLIKVID_RATA(data):\n",
    "    result = []\n",
    "    for index, row in data.iterrows():\n",
    "        numer = row['ForgoEszk']\n",
    "        denom = row['RovidLejKot']\n",
    "        ans = zeroDivisionImputated(numer, denom)\n",
    "        result.append(ans)\n",
    "    return result"
   ]
  },
  {
   "cell_type": "markdown",
   "metadata": {},
   "source": [
    "**Likviditási gyorsráta:** <br>\n",
    "(Forgóeszközök - Készletek) / Rövid lejáratú kötelezettségek"
   ]
  },
  {
   "cell_type": "code",
   "execution_count": 17,
   "metadata": {},
   "outputs": [],
   "source": [
    "def calcLIKVID_GYORSRATA(data):\n",
    "    result = []\n",
    "    for index, row in data.iterrows():\n",
    "        numer = row['ForgoEszk'] - row['Keszletek']\n",
    "        denom = row['RovidLejKot']\n",
    "        ans = zeroDivisionImputated(numer, denom)\n",
    "        result.append(ans)\n",
    "    return result"
   ]
  },
  {
   "cell_type": "markdown",
   "metadata": {},
   "source": [
    "**Készpénz likviditás:** <br>\n",
    "(Pénzeszközök + Értékpapírok) / Rövid lejáratú kötelezettségek"
   ]
  },
  {
   "cell_type": "code",
   "execution_count": 18,
   "metadata": {},
   "outputs": [],
   "source": [
    "def calcKESZPENZ_LIKVID(data):\n",
    "    result = []\n",
    "    for index, row in data.iterrows():\n",
    "        numer = row['PenzEszk'] + row['Ertekpapirok']\n",
    "        denom = row['RovidLejKot']\n",
    "        ans = zeroDivisionImputated(numer, denom)\n",
    "        result.append(ans)\n",
    "    return result"
   ]
  },
  {
   "cell_type": "markdown",
   "metadata": {},
   "source": [
    "**Dinamikus likviditás:** <br>\n",
    "Üzemi (üzleti) tevékenység eredménye / Rövid lejáratú kötelezettségek"
   ]
  },
  {
   "cell_type": "code",
   "execution_count": 19,
   "metadata": {},
   "outputs": [],
   "source": [
    "def calcDINAMIKUS_LIKVID(data):\n",
    "    result = []\n",
    "    for index, row in data.iterrows():\n",
    "        numer = row['UzemiUzletiTevEred']\n",
    "        denom = row['RovidLejKot']\n",
    "        ans = fullImputated(numer, denom)\n",
    "        result.append(ans)\n",
    "    return result"
   ]
  },
  {
   "cell_type": "markdown",
   "metadata": {},
   "source": [
    "**Saját vagyon aránya:** <br>\n",
    "Saját tőke / Mérlegfőösszeg"
   ]
  },
  {
   "cell_type": "code",
   "execution_count": 20,
   "metadata": {},
   "outputs": [],
   "source": [
    "def calcSAJAT_VAGYON_ARANYA(data):\n",
    "    result = []\n",
    "    for index, row in data.iterrows():\n",
    "        numer = row['SajatToke']\n",
    "        denom = row['MerlegFoossz']\n",
    "        if denom == 0:\n",
    "            result.append(MIN_IMPUT)\n",
    "        else:\n",
    "            result.append(numer/denom)\n",
    "    return result"
   ]
  },
  {
   "cell_type": "markdown",
   "metadata": {},
   "source": [
    "**Eladósodottság mértéke:** <br>\n",
    "Kötelezettségek / Mérlegfőösszeg"
   ]
  },
  {
   "cell_type": "code",
   "execution_count": 21,
   "metadata": {},
   "outputs": [],
   "source": [
    "def calcELADOS_MERTEKE(data):\n",
    "    result = []\n",
    "    for index, row in data.iterrows():\n",
    "        numer = row['RovidLejKot'] + row['HosszuLejKot']\n",
    "        denom = row['MerlegFoossz']\n",
    "        ans = zeroDivisionImputated(numer, denom)\n",
    "        result.append(ans)\n",
    "    return result"
   ]
  },
  {
   "cell_type": "markdown",
   "metadata": {},
   "source": [
    "**Hosszú távú eladósodottság:**<br>\n",
    "Hosszú lejáratú kötelezettségek / (Saját tőke + Hosszú lejáratú kötelezettségek)"
   ]
  },
  {
   "cell_type": "code",
   "execution_count": 22,
   "metadata": {},
   "outputs": [],
   "source": [
    "def calcHOSSZU_TAVU_ELADOS(data):\n",
    "    result = []\n",
    "    for index, row in data.iterrows():\n",
    "        numer = row['HosszuLejKot']\n",
    "        denom = row['SajatToke'] + row['HosszuLejKot']\n",
    "        if denom <= 0:\n",
    "            result.append(MAX_IMPUT)\n",
    "        else:\n",
    "            result.append(numer/denom)\n",
    "    return result"
   ]
  },
  {
   "cell_type": "markdown",
   "metadata": {},
   "source": [
    "**Idegen tőke / Saját tőke arány:** <br>\n",
    "Kötelezettségek / Saját tőke"
   ]
  },
  {
   "cell_type": "code",
   "execution_count": 23,
   "metadata": {},
   "outputs": [],
   "source": [
    "def calcIDEGEN_SAJAT_TOKE_ARANY(data):\n",
    "    result = []\n",
    "    for index, row in data.iterrows():\n",
    "        numer = row['RovidLejKot'] + row['HosszuLejKot']\n",
    "        denom = row['SajatToke']\n",
    "        if denom <= 0:\n",
    "            result.append(MAX_IMPUT)\n",
    "        else:\n",
    "            result.append(numer/denom)\n",
    "    return result"
   ]
  },
  {
   "cell_type": "markdown",
   "metadata": {},
   "source": [
    "**Befektetett eszközök saját finanszírozása:** <br>\n",
    "Saját tőke / Befektetett eszközök"
   ]
  },
  {
   "cell_type": "code",
   "execution_count": 24,
   "metadata": {},
   "outputs": [],
   "source": [
    "def calcBEFESZK_SAJAT_FIN(data):\n",
    "    result = []\n",
    "    for index, row in data.iterrows():\n",
    "        numer = row['SajatToke']\n",
    "        denom = row['BefEszk']\n",
    "        if denom == 0 and numer <= 0:\n",
    "            result.append(MIN_IMPUT)\n",
    "        elif denom == 0 and numer > 0:\n",
    "            result.append(MEDIAN_IMPUT)\n",
    "        else:\n",
    "            result.append(numer/denom)\n",
    "    return result"
   ]
  },
  {
   "cell_type": "markdown",
   "metadata": {},
   "source": [
    "**Befektetett eszközök idegen finanszírozása:** <br>\n",
    "Hosszú lejáratú kötelezettségek / Befektetett eszközök"
   ]
  },
  {
   "cell_type": "code",
   "execution_count": 25,
   "metadata": {},
   "outputs": [],
   "source": [
    "def calcBEFESZK_IDEGEN_FIN(data):\n",
    "    result = []\n",
    "    for index, row in data.iterrows():\n",
    "        numer = row['HosszuLejKot']\n",
    "        denom = row['BefEszk']\n",
    "        ans = zeroDivisionImputated(numer, denom)\n",
    "        result.append(ans)\n",
    "    return result"
   ]
  },
  {
   "cell_type": "markdown",
   "metadata": {},
   "source": [
    "**Dinamikus jövedelmezőségi ráta (bruttó):** <br>\n",
    "(Adózott eredmény + Értékcsökkenési leírás) / Átlagos mérlegfőösszeg"
   ]
  },
  {
   "cell_type": "code",
   "execution_count": 26,
   "metadata": {},
   "outputs": [],
   "source": [
    "def calcDIN_JOVED_RATA(data):\n",
    "    result = []\n",
    "    for index, row in data.iterrows():\n",
    "        numer = row['AdozasUtEred'] + row['ErtekcsokkLeir']\n",
    "        denom = (row['MerlegFoossz']+ row['ElozoMerlegFoosszeg'])/2\n",
    "        ans = fullImputated(numer, denom)\n",
    "        result.append(ans)\n",
    "    return result"
   ]
  },
  {
   "cell_type": "markdown",
   "metadata": {},
   "source": [
    "**Cash flow / összes tartozás:**<br>\n",
    "(Adózott eredmény + Értékcsökkenési leírás) / (Hosszú lejáratú kötelezettségek + Rövid lejáratú kötelezettségek)"
   ]
  },
  {
   "cell_type": "code",
   "execution_count": 27,
   "metadata": {},
   "outputs": [],
   "source": [
    "def calcCASH_FLOW_TART_RATA(data):\n",
    "    result = []\n",
    "    for index, row in data.iterrows():\n",
    "        numer = row['AdozasUtEred'] + row['ErtekcsokkLeir']\n",
    "        denom = row['HosszuLejKot'] + row['RovidLejKot']\n",
    "        ans = fullImputated(numer, denom)\n",
    "        result.append(ans)\n",
    "    return result"
   ]
  },
  {
   "cell_type": "markdown",
   "metadata": {},
   "source": [
    "**Cash-flow / nettó árbevétel:**<br>\n",
    "(Adózott eredmény + Értékcsökkenési leírás) / Értékesítés nettó árbevétele"
   ]
  },
  {
   "cell_type": "code",
   "execution_count": 28,
   "metadata": {},
   "outputs": [],
   "source": [
    "def calcCASH_FLOW_ARBEV_RATA(data):\n",
    "    result = []\n",
    "    for index, row in data.iterrows():\n",
    "        numer = row['AdozasUtEred'] + row['ErtekcsokkLeir']\n",
    "        denom = row['Arbevetel']\n",
    "        ans = fullImputated(numer, denom)\n",
    "        result.append(ans)\n",
    "    return result"
   ]
  },
  {
   "cell_type": "markdown",
   "metadata": {},
   "source": [
    "**Mérlegfőösszeg nagysága:** <br>\n",
    "log (Mérlegfőösszeg)"
   ]
  },
  {
   "cell_type": "code",
   "execution_count": 29,
   "metadata": {},
   "outputs": [],
   "source": [
    "def calcMFO_NAGYSAG(data):\n",
    "    return [math.log(x) for x in data['MerlegFoossz']]"
   ]
  },
  {
   "cell_type": "markdown",
   "metadata": {},
   "source": [
    "**Éves árbevétel nagysága:** <br>\n",
    "log (Értékesítés nettó árbevétele)"
   ]
  },
  {
   "cell_type": "code",
   "execution_count": 30,
   "metadata": {},
   "outputs": [],
   "source": [
    "def calcARBEV_NAGYSAG(data):\n",
    "    return [math.log(x) for x in data['Arbevetel']]"
   ]
  },
  {
   "cell_type": "markdown",
   "metadata": {},
   "source": [
    "**Árbevétel növekedési üteme:** <br>\n",
    "Értékesítés nettó árbevétele tárgyidőszak / Értékesítés nettó árbevétele előző időszak"
   ]
  },
  {
   "cell_type": "code",
   "execution_count": 31,
   "metadata": {},
   "outputs": [],
   "source": [
    "def calcARBEV_NOVEK(data):\n",
    "    result = []\n",
    "    for index, row in data.iterrows():\n",
    "        numer = row['Arbevetel']\n",
    "        denom = row['ElozoArbevetel']\n",
    "        if denom == 0 and numer >= 0:\n",
    "            result.append(MEDIAN_IMPUT)\n",
    "        else:\n",
    "            result.append(numer/denom)\n",
    "    return result"
   ]
  },
  {
   "cell_type": "markdown",
   "metadata": {},
   "source": [
    "**Tőkeellátottsági mutató:** <br>\n",
    "(Befektetett eszközök + Készletek) / Saját tőke"
   ]
  },
  {
   "cell_type": "code",
   "execution_count": 32,
   "metadata": {},
   "outputs": [],
   "source": [
    "def calcTOKE_ELLAT(data):\n",
    "    result = []\n",
    "    for index, row in data.iterrows():\n",
    "        numer = row['BefEszk'] + row['Keszletek']\n",
    "        denom = row['SajatToke']\n",
    "        if denom == 0:\n",
    "            result.append(MIN_IMPUT)\n",
    "        else:\n",
    "            result.append(numer/denom)\n",
    "    return result"
   ]
  },
  {
   "cell_type": "markdown",
   "metadata": {},
   "source": [
    "**Forgóeszközök aránya:**<br>\n",
    "Forgóeszközök / Mérlegfőösszeg"
   ]
  },
  {
   "cell_type": "code",
   "execution_count": 33,
   "metadata": {},
   "outputs": [],
   "source": [
    "def calcFORGO_ESZK_ARANYA(data):\n",
    "    result = []\n",
    "    for index, row in data.iterrows():\n",
    "        numer = row['ForgoEszk']\n",
    "        denom = row['MerlegFoossz']\n",
    "        ans = zeroDivisionImputated(numer, denom)\n",
    "        result.append(ans)\n",
    "    return result"
   ]
  },
  {
   "cell_type": "markdown",
   "metadata": {},
   "source": [
    "**Likvid pénzeszközök aránya:** <br>\n",
    "(Pénzeszközök + Értékpapírok) / Forgóeszközök"
   ]
  },
  {
   "cell_type": "code",
   "execution_count": 34,
   "metadata": {},
   "outputs": [],
   "source": [
    "def calcLIKVID_PENZESZK_ARANYA(data):\n",
    "    result = []\n",
    "    for index, row in data.iterrows():\n",
    "        numer = row['PenzEszk'] + row['Ertekpapirok']\n",
    "        denom = row['ForgoEszk']\n",
    "        if denom == 0 and numer == 0:\n",
    "            result.append(MEDIAN_IMPUT)\n",
    "        else:\n",
    "            result.append(numer/denom)\n",
    "    return result"
   ]
  },
  {
   "cell_type": "markdown",
   "metadata": {},
   "source": [
    "**Nettó forgótőke arány:** <br>\n",
    "(Forgóeszközök - Rövid lejáratú kötelezettségek) / Mérlegfőösszeg"
   ]
  },
  {
   "cell_type": "code",
   "execution_count": 35,
   "metadata": {},
   "outputs": [],
   "source": [
    "def calcFORGO_TOKE_ARANY(data):\n",
    "    result = []\n",
    "    for index, row in data.iterrows():\n",
    "        numer = row['ForgoEszk'] - row['RovidLejKot']\n",
    "        denom = row['MerlegFoossz']\n",
    "        ans = zeroDivisionImputated(numer, denom)\n",
    "        result.append(ans)\n",
    "    return result"
   ]
  },
  {
   "cell_type": "markdown",
   "metadata": {},
   "source": [
    "**Vevők / Szállítók aránya:** <br>\n",
    "Vevőkövetelések / Szállítói kötelezettségek"
   ]
  },
  {
   "cell_type": "code",
   "execution_count": 36,
   "metadata": {},
   "outputs": [],
   "source": [
    "def calcVEVO_SZALLITO_ARANY(data):\n",
    "    result = []\n",
    "    for index, row in data.iterrows():\n",
    "        numer = row['KovetelesekVevok']\n",
    "        denom = row['KovetelesekSzallitok']\n",
    "        if denom == 0:\n",
    "            result.append(MEDIAN_IMPUT)\n",
    "        else:\n",
    "            result.append(numer/denom)\n",
    "    return result"
   ]
  },
  {
   "cell_type": "markdown",
   "metadata": {},
   "source": [
    "## 3. Hiányzó értékek, nullával való osztások kezelése imputációs módszerekkel\n",
    "A pénzügyi mutatók kiszámításának implementációja után el lehet végezni a konkrét imputációs módszerek végrehajtását. Az alábbi `applyImputations` függvény minden adatsorban a fent beírt imputációs módszert indikáló string konstansokat a megfelelő helyettesítő értékre cseréli. Az `imputationStats` segédfüggvény pedig megszámolja a különböző imputációs eljárások alkalmazását. "
   ]
  },
  {
   "cell_type": "code",
   "execution_count": 37,
   "metadata": {},
   "outputs": [],
   "source": [
    "methods = {\n",
    "    MIN_IMPUT: min,\n",
    "    MAX_IMPUT: max,\n",
    "    MEDIAN_IMPUT: stats.median\n",
    "}\n",
    "\n",
    "def applyImputations(arr):\n",
    "    nums = [x for x in arr if type(x) is not str]\n",
    "    for x in arr:\n",
    "        if type(x) is str:\n",
    "            yield methods[x](nums)\n",
    "        else:\n",
    "            yield x\n",
    "            \n",
    "def imputationStats(record):\n",
    "    minc = len([x for x in record if x == MIN_IMPUT])\n",
    "    maxc = len([x for x in record if x == MAX_IMPUT])\n",
    "    medc = len([x for x in record if x == MEDIAN_IMPUT])\n",
    "    description = []\n",
    "    if minc > 0:\n",
    "        description.append(f\"Minimum Imputálva: {minc} \")\n",
    "    if maxc > 0:\n",
    "        description.append(f\"Maximum Imputálva: {maxc} \")\n",
    "    if medc > 0:\n",
    "        description.append(f\"Medián Imputálva: {medc} \")\n",
    "    if minc == 0 and maxc == 0 and medc == 0:\n",
    "        description.append(\"Nem kellet imputálni\")    \n",
    "    return description"
   ]
  },
  {
   "cell_type": "markdown",
   "metadata": {},
   "source": [
    "Nincs más hátra mint előre! A fenti függvény segítségével elkészíthető a végelges data frame, mely az imputációs eljárásokkal generált pénzügyi mutatószámokat tárolja."
   ]
  },
  {
   "cell_type": "code",
   "execution_count": 56,
   "metadata": {},
   "outputs": [
    {
     "name": "stdout",
     "output_type": "stream",
     "text": [
      "ROE ['Minimum Imputálva: 73 ']\n",
      "ROA ['Nem kellet imputálni']\n",
      "EBITDA ['Nem kellet imputálni']\n",
      "ROS ['Nem kellet imputálni']\n",
      "ARBEV_ARANYOS_EBITDA ['Nem kellet imputálni']\n",
      "ESZK_ARANYOS_ARBEV ['Nem kellet imputálni']\n",
      "KESZLET_FORG_SEB ['Maximum Imputálva: 444 ']\n",
      "ESZK_FORG_SEB ['Maximum Imputálva: 19 ']\n",
      "LIKVID_RATA ['Maximum Imputálva: 2 ']\n",
      "LIKVID_GYORSRATA ['Maximum Imputálva: 2 ']\n",
      "KESZPENZ_LIKVID ['Maximum Imputálva: 2 ']\n",
      "DINAMIKUS_LIKVID ['Maximum Imputálva: 2 ']\n",
      "SAJAT_VAGYON_ARANYA ['Nem kellet imputálni']\n",
      "ELADOS_MERTEKE ['Nem kellet imputálni']\n",
      "HOSSZU_TAVU_ELADOS ['Maximum Imputálva: 91 ']\n",
      "IDEGEN_SAJAT_TOKE_ARANY ['Maximum Imputálva: 117 ']\n",
      "BEFESZK_SAJAT_FIN ['Minimum Imputálva: 15 ', 'Medián Imputálva: 65 ']\n",
      "BEFESZK_IDEGEN_FIN ['Maximum Imputálva: 80 ']\n",
      "DIN_JOVED_RATA ['Nem kellet imputálni']\n",
      "CASH_FLOW_TART_RATA ['Minimum Imputálva: 1 ']\n",
      "CASH_FLOW_ARBEV_RATA ['Nem kellet imputálni']\n",
      "MFO_NAGYSAG ['Nem kellet imputálni']\n",
      "ARBEV_NAGYSAG ['Nem kellet imputálni']\n",
      "ARBEV_NOVEK ['Medián Imputálva: 68 ']\n",
      "TOKE_ELLAT ['Nem kellet imputálni']\n",
      "FORGO_ESZK_ARANYA ['Nem kellet imputálni']\n",
      "LIKVID_PENZESZK_ARANYA ['Nem kellet imputálni']\n",
      "FORGO_TOKE_ARANY ['Nem kellet imputálni']\n",
      "VEVO_SZALLITO_ARANY ['Medián Imputálva: 2 ']\n"
     ]
    }
   ],
   "source": [
    "database = pd.DataFrame()\n",
    "\n",
    "factory = {\n",
    "    'ROE': calcROE,\n",
    "    'ROA': calcROA,\n",
    "    'EBITDA': calcEBITDA,\n",
    "    'ROS': calcROS,\n",
    "    'ARBEV_ARANYOS_EBITDA': calcARBEV_ARANYOS_EBITDA,\n",
    "    'ESZK_ARANYOS_ARBEV': calcESZK_ARANYOS_ARBEV,\n",
    "    'KESZLET_FORG_SEB': calcKESZLET_FORG_SEB,\n",
    "    'ESZK_FORG_SEB': calcESZK_FORG_SEB,\n",
    "    'LIKVID_RATA': calcLIKVID_RATA,\n",
    "    'LIKVID_GYORSRATA': calcLIKVID_GYORSRATA,\n",
    "    'KESZPENZ_LIKVID': calcKESZPENZ_LIKVID,\n",
    "    'DINAMIKUS_LIKVID': calcDINAMIKUS_LIKVID,\n",
    "    'SAJAT_VAGYON_ARANYA': calcSAJAT_VAGYON_ARANYA,\n",
    "    'ELADOS_MERTEKE': calcELADOS_MERTEKE,\n",
    "    'HOSSZU_TAVU_ELADOS': calcHOSSZU_TAVU_ELADOS,\n",
    "    'IDEGEN_SAJAT_TOKE_ARANY': calcIDEGEN_SAJAT_TOKE_ARANY,\n",
    "    'BEFESZK_SAJAT_FIN': calcBEFESZK_SAJAT_FIN,\n",
    "    'BEFESZK_IDEGEN_FIN': calcBEFESZK_IDEGEN_FIN,\n",
    "    'DIN_JOVED_RATA': calcDIN_JOVED_RATA,\n",
    "    'CASH_FLOW_TART_RATA': calcCASH_FLOW_TART_RATA,\n",
    "    'CASH_FLOW_ARBEV_RATA': calcCASH_FLOW_ARBEV_RATA,\n",
    "    'MFO_NAGYSAG': calcMFO_NAGYSAG,\n",
    "    'ARBEV_NAGYSAG': calcARBEV_NAGYSAG,\n",
    "    'ARBEV_NOVEK': calcARBEV_NOVEK,\n",
    "    'TOKE_ELLAT': calcTOKE_ELLAT,\n",
    "    'FORGO_ESZK_ARANYA': calcFORGO_ESZK_ARANYA,\n",
    "    'LIKVID_PENZESZK_ARANYA': calcLIKVID_PENZESZK_ARANYA,\n",
    "    'FORGO_TOKE_ARANY': calcFORGO_TOKE_ARANY,\n",
    "    'VEVO_SZALLITO_ARANY': calcVEVO_SZALLITO_ARANY\n",
    "}\n",
    "\n",
    "for key in factory:\n",
    "    record = factory[key](rawdata)\n",
    "    database[key] = [x for x in applyImputations(record)]\n",
    "    print(key, imputationStats(record))"
   ]
  },
  {
   "cell_type": "markdown",
   "metadata": {},
   "source": [
    "Az így kapott adatbázis tartalmazza a legfontosabb pénzügyi indikátorokat, melyek a modellünk input változóit képzik a továbbiakban. Az adatbázis első 5 rekordjának értékei lentebb láthatóak."
   ]
  },
  {
   "cell_type": "code",
   "execution_count": 39,
   "metadata": {},
   "outputs": [
    {
     "data": {
      "text/html": [
       "<div>\n",
       "<style scoped>\n",
       "    .dataframe tbody tr th:only-of-type {\n",
       "        vertical-align: middle;\n",
       "    }\n",
       "\n",
       "    .dataframe tbody tr th {\n",
       "        vertical-align: top;\n",
       "    }\n",
       "\n",
       "    .dataframe thead th {\n",
       "        text-align: right;\n",
       "    }\n",
       "</style>\n",
       "<table border=\"1\" class=\"dataframe\">\n",
       "  <thead>\n",
       "    <tr style=\"text-align: right;\">\n",
       "      <th></th>\n",
       "      <th>ROE</th>\n",
       "      <th>ROA</th>\n",
       "      <th>EBITDA</th>\n",
       "      <th>ROS</th>\n",
       "      <th>ARBEV_ARANYOS_EBITDA</th>\n",
       "      <th>ESZK_ARANYOS_ARBEV</th>\n",
       "      <th>KESZLET_FORG_SEB</th>\n",
       "    </tr>\n",
       "  </thead>\n",
       "  <tbody>\n",
       "    <tr>\n",
       "      <th>0</th>\n",
       "      <td>0.03</td>\n",
       "      <td>0.02</td>\n",
       "      <td>0.03</td>\n",
       "      <td>0.10</td>\n",
       "      <td>0.10</td>\n",
       "      <td>0.34</td>\n",
       "      <td>18.12</td>\n",
       "    </tr>\n",
       "    <tr>\n",
       "      <th>1</th>\n",
       "      <td>31.52</td>\n",
       "      <td>2.20</td>\n",
       "      <td>2.47</td>\n",
       "      <td>0.64</td>\n",
       "      <td>0.64</td>\n",
       "      <td>3.83</td>\n",
       "      <td>36045.43</td>\n",
       "    </tr>\n",
       "    <tr>\n",
       "      <th>2</th>\n",
       "      <td>0.13</td>\n",
       "      <td>0.04</td>\n",
       "      <td>0.06</td>\n",
       "      <td>0.02</td>\n",
       "      <td>0.02</td>\n",
       "      <td>2.74</td>\n",
       "      <td>30.38</td>\n",
       "    </tr>\n",
       "    <tr>\n",
       "      <th>3</th>\n",
       "      <td>0.05</td>\n",
       "      <td>0.05</td>\n",
       "      <td>0.07</td>\n",
       "      <td>0.06</td>\n",
       "      <td>0.06</td>\n",
       "      <td>1.16</td>\n",
       "      <td>11.77</td>\n",
       "    </tr>\n",
       "    <tr>\n",
       "      <th>4</th>\n",
       "      <td>0.12</td>\n",
       "      <td>0.04</td>\n",
       "      <td>0.36</td>\n",
       "      <td>0.22</td>\n",
       "      <td>0.22</td>\n",
       "      <td>1.60</td>\n",
       "      <td>109.84</td>\n",
       "    </tr>\n",
       "  </tbody>\n",
       "</table>\n",
       "</div>"
      ],
      "text/plain": [
       "    ROE  ROA  EBITDA  ROS  ARBEV_ARANYOS_EBITDA  ESZK_ARANYOS_ARBEV  \\\n",
       "0  0.03 0.02    0.03 0.10                  0.10                0.34   \n",
       "1 31.52 2.20    2.47 0.64                  0.64                3.83   \n",
       "2  0.13 0.04    0.06 0.02                  0.02                2.74   \n",
       "3  0.05 0.05    0.07 0.06                  0.06                1.16   \n",
       "4  0.12 0.04    0.36 0.22                  0.22                1.60   \n",
       "\n",
       "   KESZLET_FORG_SEB  \n",
       "0             18.12  \n",
       "1          36045.43  \n",
       "2             30.38  \n",
       "3             11.77  \n",
       "4            109.84  "
      ]
     },
     "execution_count": 39,
     "metadata": {},
     "output_type": "execute_result"
    }
   ],
   "source": [
    "pd.options.display.float_format = '{:.2f}'.format\n",
    "\n",
    "database.iloc[:,0:7].head()"
   ]
  },
  {
   "cell_type": "code",
   "execution_count": 40,
   "metadata": {},
   "outputs": [
    {
     "data": {
      "text/html": [
       "<div>\n",
       "<style scoped>\n",
       "    .dataframe tbody tr th:only-of-type {\n",
       "        vertical-align: middle;\n",
       "    }\n",
       "\n",
       "    .dataframe tbody tr th {\n",
       "        vertical-align: top;\n",
       "    }\n",
       "\n",
       "    .dataframe thead th {\n",
       "        text-align: right;\n",
       "    }\n",
       "</style>\n",
       "<table border=\"1\" class=\"dataframe\">\n",
       "  <thead>\n",
       "    <tr style=\"text-align: right;\">\n",
       "      <th></th>\n",
       "      <th>KESZLET_FORG_SEB</th>\n",
       "      <th>ESZK_FORG_SEB</th>\n",
       "      <th>LIKVID_RATA</th>\n",
       "      <th>LIKVID_GYORSRATA</th>\n",
       "      <th>KESZPENZ_LIKVID</th>\n",
       "    </tr>\n",
       "  </thead>\n",
       "  <tbody>\n",
       "    <tr>\n",
       "      <th>0</th>\n",
       "      <td>18.12</td>\n",
       "      <td>105.37</td>\n",
       "      <td>0.23</td>\n",
       "      <td>0.12</td>\n",
       "      <td>0.10</td>\n",
       "    </tr>\n",
       "    <tr>\n",
       "      <th>1</th>\n",
       "      <td>36045.43</td>\n",
       "      <td>6.94</td>\n",
       "      <td>1.10</td>\n",
       "      <td>1.10</td>\n",
       "      <td>0.20</td>\n",
       "    </tr>\n",
       "    <tr>\n",
       "      <th>2</th>\n",
       "      <td>30.38</td>\n",
       "      <td>3.95</td>\n",
       "      <td>1.33</td>\n",
       "      <td>1.18</td>\n",
       "      <td>0.06</td>\n",
       "    </tr>\n",
       "    <tr>\n",
       "      <th>3</th>\n",
       "      <td>11.77</td>\n",
       "      <td>6.10</td>\n",
       "      <td>9.13</td>\n",
       "      <td>7.85</td>\n",
       "      <td>5.38</td>\n",
       "    </tr>\n",
       "    <tr>\n",
       "      <th>4</th>\n",
       "      <td>109.84</td>\n",
       "      <td>5.98</td>\n",
       "      <td>0.57</td>\n",
       "      <td>0.54</td>\n",
       "      <td>0.02</td>\n",
       "    </tr>\n",
       "  </tbody>\n",
       "</table>\n",
       "</div>"
      ],
      "text/plain": [
       "   KESZLET_FORG_SEB  ESZK_FORG_SEB  LIKVID_RATA  LIKVID_GYORSRATA  \\\n",
       "0             18.12         105.37         0.23              0.12   \n",
       "1          36045.43           6.94         1.10              1.10   \n",
       "2             30.38           3.95         1.33              1.18   \n",
       "3             11.77           6.10         9.13              7.85   \n",
       "4            109.84           5.98         0.57              0.54   \n",
       "\n",
       "   KESZPENZ_LIKVID  \n",
       "0             0.10  \n",
       "1             0.20  \n",
       "2             0.06  \n",
       "3             5.38  \n",
       "4             0.02  "
      ]
     },
     "execution_count": 40,
     "metadata": {},
     "output_type": "execute_result"
    }
   ],
   "source": [
    "database.iloc[:,6:11].head()"
   ]
  },
  {
   "cell_type": "code",
   "execution_count": 41,
   "metadata": {},
   "outputs": [
    {
     "data": {
      "text/html": [
       "<div>\n",
       "<style scoped>\n",
       "    .dataframe tbody tr th:only-of-type {\n",
       "        vertical-align: middle;\n",
       "    }\n",
       "\n",
       "    .dataframe tbody tr th {\n",
       "        vertical-align: top;\n",
       "    }\n",
       "\n",
       "    .dataframe thead th {\n",
       "        text-align: right;\n",
       "    }\n",
       "</style>\n",
       "<table border=\"1\" class=\"dataframe\">\n",
       "  <thead>\n",
       "    <tr style=\"text-align: right;\">\n",
       "      <th></th>\n",
       "      <th>DINAMIKUS_LIKVID</th>\n",
       "      <th>SAJAT_VAGYON_ARANYA</th>\n",
       "      <th>ELADOS_MERTEKE</th>\n",
       "      <th>HOSSZU_TAVU_ELADOS</th>\n",
       "    </tr>\n",
       "  </thead>\n",
       "  <tbody>\n",
       "    <tr>\n",
       "      <th>0</th>\n",
       "      <td>0.17</td>\n",
       "      <td>0.47</td>\n",
       "      <td>0.53</td>\n",
       "      <td>0.46</td>\n",
       "    </tr>\n",
       "    <tr>\n",
       "      <th>1</th>\n",
       "      <td>4.00</td>\n",
       "      <td>0.10</td>\n",
       "      <td>0.90</td>\n",
       "      <td>0.00</td>\n",
       "    </tr>\n",
       "    <tr>\n",
       "      <th>2</th>\n",
       "      <td>0.07</td>\n",
       "      <td>0.31</td>\n",
       "      <td>0.69</td>\n",
       "      <td>0.22</td>\n",
       "    </tr>\n",
       "    <tr>\n",
       "      <th>3</th>\n",
       "      <td>0.64</td>\n",
       "      <td>0.92</td>\n",
       "      <td>0.08</td>\n",
       "      <td>0.00</td>\n",
       "    </tr>\n",
       "    <tr>\n",
       "      <th>4</th>\n",
       "      <td>0.11</td>\n",
       "      <td>0.38</td>\n",
       "      <td>0.54</td>\n",
       "      <td>0.24</td>\n",
       "    </tr>\n",
       "  </tbody>\n",
       "</table>\n",
       "</div>"
      ],
      "text/plain": [
       "   DINAMIKUS_LIKVID  SAJAT_VAGYON_ARANYA  ELADOS_MERTEKE  HOSSZU_TAVU_ELADOS\n",
       "0              0.17                 0.47            0.53                0.46\n",
       "1              4.00                 0.10            0.90                0.00\n",
       "2              0.07                 0.31            0.69                0.22\n",
       "3              0.64                 0.92            0.08                0.00\n",
       "4              0.11                 0.38            0.54                0.24"
      ]
     },
     "execution_count": 41,
     "metadata": {},
     "output_type": "execute_result"
    }
   ],
   "source": [
    "database.iloc[:,11:15].head()"
   ]
  },
  {
   "cell_type": "code",
   "execution_count": 42,
   "metadata": {},
   "outputs": [
    {
     "data": {
      "text/html": [
       "<div>\n",
       "<style scoped>\n",
       "    .dataframe tbody tr th:only-of-type {\n",
       "        vertical-align: middle;\n",
       "    }\n",
       "\n",
       "    .dataframe tbody tr th {\n",
       "        vertical-align: top;\n",
       "    }\n",
       "\n",
       "    .dataframe thead th {\n",
       "        text-align: right;\n",
       "    }\n",
       "</style>\n",
       "<table border=\"1\" class=\"dataframe\">\n",
       "  <thead>\n",
       "    <tr style=\"text-align: right;\">\n",
       "      <th></th>\n",
       "      <th>IDEGEN_SAJAT_TOKE_ARANY</th>\n",
       "      <th>BEFESZK_SAJAT_FIN</th>\n",
       "      <th>BEFESZK_IDEGEN_FIN</th>\n",
       "      <th>DIN_JOVED_RATA</th>\n",
       "    </tr>\n",
       "  </thead>\n",
       "  <tbody>\n",
       "    <tr>\n",
       "      <th>0</th>\n",
       "      <td>1.13</td>\n",
       "      <td>0.48</td>\n",
       "      <td>0.41</td>\n",
       "      <td>0.02</td>\n",
       "    </tr>\n",
       "    <tr>\n",
       "      <th>1</th>\n",
       "      <td>9.44</td>\n",
       "      <td>43.73</td>\n",
       "      <td>0.00</td>\n",
       "      <td>2.21</td>\n",
       "    </tr>\n",
       "    <tr>\n",
       "      <th>2</th>\n",
       "      <td>2.24</td>\n",
       "      <td>1.54</td>\n",
       "      <td>0.44</td>\n",
       "      <td>0.05</td>\n",
       "    </tr>\n",
       "    <tr>\n",
       "      <th>3</th>\n",
       "      <td>0.09</td>\n",
       "      <td>3.48</td>\n",
       "      <td>0.00</td>\n",
       "      <td>0.07</td>\n",
       "    </tr>\n",
       "    <tr>\n",
       "      <th>4</th>\n",
       "      <td>1.44</td>\n",
       "      <td>0.65</td>\n",
       "      <td>0.21</td>\n",
       "      <td>0.35</td>\n",
       "    </tr>\n",
       "  </tbody>\n",
       "</table>\n",
       "</div>"
      ],
      "text/plain": [
       "   IDEGEN_SAJAT_TOKE_ARANY  BEFESZK_SAJAT_FIN  BEFESZK_IDEGEN_FIN  \\\n",
       "0                     1.13               0.48                0.41   \n",
       "1                     9.44              43.73                0.00   \n",
       "2                     2.24               1.54                0.44   \n",
       "3                     0.09               3.48                0.00   \n",
       "4                     1.44               0.65                0.21   \n",
       "\n",
       "   DIN_JOVED_RATA  \n",
       "0            0.02  \n",
       "1            2.21  \n",
       "2            0.05  \n",
       "3            0.07  \n",
       "4            0.35  "
      ]
     },
     "execution_count": 42,
     "metadata": {},
     "output_type": "execute_result"
    }
   ],
   "source": [
    "database.iloc[:,15:19].head()"
   ]
  },
  {
   "cell_type": "code",
   "execution_count": 43,
   "metadata": {},
   "outputs": [
    {
     "data": {
      "text/html": [
       "<div>\n",
       "<style scoped>\n",
       "    .dataframe tbody tr th:only-of-type {\n",
       "        vertical-align: middle;\n",
       "    }\n",
       "\n",
       "    .dataframe tbody tr th {\n",
       "        vertical-align: top;\n",
       "    }\n",
       "\n",
       "    .dataframe thead th {\n",
       "        text-align: right;\n",
       "    }\n",
       "</style>\n",
       "<table border=\"1\" class=\"dataframe\">\n",
       "  <thead>\n",
       "    <tr style=\"text-align: right;\">\n",
       "      <th></th>\n",
       "      <th>CASH_FLOW_TART_RATA</th>\n",
       "      <th>CASH_FLOW_ARBEV_RATA</th>\n",
       "      <th>MFO_NAGYSAG</th>\n",
       "      <th>ARBEV_NAGYSAG</th>\n",
       "      <th>ARBEV_NOVEK</th>\n",
       "    </tr>\n",
       "  </thead>\n",
       "  <tbody>\n",
       "    <tr>\n",
       "      <th>0</th>\n",
       "      <td>0.03</td>\n",
       "      <td>0.06</td>\n",
       "      <td>11.23</td>\n",
       "      <td>9.90</td>\n",
       "      <td>0.93</td>\n",
       "    </tr>\n",
       "    <tr>\n",
       "      <th>1</th>\n",
       "      <td>3.61</td>\n",
       "      <td>0.58</td>\n",
       "      <td>10.06</td>\n",
       "      <td>11.79</td>\n",
       "      <td>1.01</td>\n",
       "    </tr>\n",
       "    <tr>\n",
       "      <th>2</th>\n",
       "      <td>0.07</td>\n",
       "      <td>0.02</td>\n",
       "      <td>9.69</td>\n",
       "      <td>10.67</td>\n",
       "      <td>1.13</td>\n",
       "    </tr>\n",
       "    <tr>\n",
       "      <th>3</th>\n",
       "      <td>0.95</td>\n",
       "      <td>0.06</td>\n",
       "      <td>13.07</td>\n",
       "      <td>13.24</td>\n",
       "      <td>0.97</td>\n",
       "    </tr>\n",
       "    <tr>\n",
       "      <th>4</th>\n",
       "      <td>0.52</td>\n",
       "      <td>0.22</td>\n",
       "      <td>11.34</td>\n",
       "      <td>11.61</td>\n",
       "      <td>1.56</td>\n",
       "    </tr>\n",
       "  </tbody>\n",
       "</table>\n",
       "</div>"
      ],
      "text/plain": [
       "   CASH_FLOW_TART_RATA  CASH_FLOW_ARBEV_RATA  MFO_NAGYSAG  ARBEV_NAGYSAG  \\\n",
       "0                 0.03                  0.06        11.23           9.90   \n",
       "1                 3.61                  0.58        10.06          11.79   \n",
       "2                 0.07                  0.02         9.69          10.67   \n",
       "3                 0.95                  0.06        13.07          13.24   \n",
       "4                 0.52                  0.22        11.34          11.61   \n",
       "\n",
       "   ARBEV_NOVEK  \n",
       "0         0.93  \n",
       "1         1.01  \n",
       "2         1.13  \n",
       "3         0.97  \n",
       "4         1.56  "
      ]
     },
     "execution_count": 43,
     "metadata": {},
     "output_type": "execute_result"
    }
   ],
   "source": [
    "database.iloc[:,19:24].head()"
   ]
  },
  {
   "cell_type": "code",
   "execution_count": 44,
   "metadata": {},
   "outputs": [
    {
     "data": {
      "text/html": [
       "<div>\n",
       "<style scoped>\n",
       "    .dataframe tbody tr th:only-of-type {\n",
       "        vertical-align: middle;\n",
       "    }\n",
       "\n",
       "    .dataframe tbody tr th {\n",
       "        vertical-align: top;\n",
       "    }\n",
       "\n",
       "    .dataframe thead th {\n",
       "        text-align: right;\n",
       "    }\n",
       "</style>\n",
       "<table border=\"1\" class=\"dataframe\">\n",
       "  <thead>\n",
       "    <tr style=\"text-align: right;\">\n",
       "      <th></th>\n",
       "      <th>TOKE_ELLAT</th>\n",
       "      <th>FORGO_ESZK_ARANYA</th>\n",
       "      <th>LIKVID_PENZESZK_ARANYA</th>\n",
       "      <th>FORGO_TOKE_ARANY</th>\n",
       "      <th>VEVO_SZALLITO_ARANY</th>\n",
       "    </tr>\n",
       "  </thead>\n",
       "  <tbody>\n",
       "    <tr>\n",
       "      <th>0</th>\n",
       "      <td>2.10</td>\n",
       "      <td>0.03</td>\n",
       "      <td>0.43</td>\n",
       "      <td>-0.10</td>\n",
       "      <td>0.00</td>\n",
       "    </tr>\n",
       "    <tr>\n",
       "      <th>1</th>\n",
       "      <td>0.02</td>\n",
       "      <td>0.99</td>\n",
       "      <td>0.18</td>\n",
       "      <td>0.09</td>\n",
       "      <td>0.90</td>\n",
       "    </tr>\n",
       "    <tr>\n",
       "      <th>2</th>\n",
       "      <td>0.93</td>\n",
       "      <td>0.80</td>\n",
       "      <td>0.04</td>\n",
       "      <td>0.20</td>\n",
       "      <td>0.98</td>\n",
       "    </tr>\n",
       "    <tr>\n",
       "      <th>3</th>\n",
       "      <td>0.40</td>\n",
       "      <td>0.72</td>\n",
       "      <td>0.59</td>\n",
       "      <td>0.64</td>\n",
       "      <td>2.47</td>\n",
       "    </tr>\n",
       "    <tr>\n",
       "      <th>4</th>\n",
       "      <td>1.57</td>\n",
       "      <td>0.24</td>\n",
       "      <td>0.03</td>\n",
       "      <td>-0.18</td>\n",
       "      <td>0.41</td>\n",
       "    </tr>\n",
       "  </tbody>\n",
       "</table>\n",
       "</div>"
      ],
      "text/plain": [
       "   TOKE_ELLAT  FORGO_ESZK_ARANYA  LIKVID_PENZESZK_ARANYA  FORGO_TOKE_ARANY  \\\n",
       "0        2.10               0.03                    0.43             -0.10   \n",
       "1        0.02               0.99                    0.18              0.09   \n",
       "2        0.93               0.80                    0.04              0.20   \n",
       "3        0.40               0.72                    0.59              0.64   \n",
       "4        1.57               0.24                    0.03             -0.18   \n",
       "\n",
       "   VEVO_SZALLITO_ARANY  \n",
       "0                 0.00  \n",
       "1                 0.90  \n",
       "2                 0.98  \n",
       "3                 2.47  \n",
       "4                 0.41  "
      ]
     },
     "execution_count": 44,
     "metadata": {},
     "output_type": "execute_result"
    }
   ],
   "source": [
    "database.iloc[:,24:].head()"
   ]
  },
  {
   "cell_type": "markdown",
   "metadata": {},
   "source": [
    "## 4. Bináris célváltozó (1/0 csődesemény) megképzése\n",
    "A célváltozó képzés a csődbe jutás (default-tá, fizetésképtelenné válás) definícióján alapul, és bináris változót jelent. A cég csődös, ha valamely csődesemény bekövetkezett, ilyen lehet a csődeljárás, felszámolási eljárás, kényszertörlés megindítása, illetve legalább 90 napos hátralékos teljesítés bekövetkezése. A célváltozót ezen eseményekre vonatkozó információkból képezzük, melyek a beolvasott adatbázis `AllapotLeiras` oszlopában találhatóak."
   ]
  },
  {
   "cell_type": "markdown",
   "metadata": {},
   "source": [
    "Lássuk először a lehetséges értékeket:"
   ]
  },
  {
   "cell_type": "code",
   "execution_count": 45,
   "metadata": {},
   "outputs": [
    {
     "data": {
      "text/plain": [
       "{'A cég csőd eljárás alatt áll',\n",
       " 'A cég felszámolási eljárás alatt áll',\n",
       " 'A cég kényszertörlési eljárás alatt áll',\n",
       " 'Működik'}"
      ]
     },
     "execution_count": 45,
     "metadata": {},
     "output_type": "execute_result"
    }
   ],
   "source": [
    "set(rawdata['AllapotLeiras'])"
   ]
  },
  {
   "cell_type": "markdown",
   "metadata": {},
   "source": [
    "A különböző értékeket megszámolva, egy oszlopdiagramon meg tudjuk jeleníteni az egyes események előfordulásainak sokaságát:"
   ]
  },
  {
   "cell_type": "code",
   "execution_count": 57,
   "metadata": {},
   "outputs": [
    {
     "data": {
      "image/png": "[encoded data removed]",
      "text/plain": [
       "<Figure size 432x288 with 1 Axes>"
      ]
     },
     "metadata": {
      "needs_background": "light"
     },
     "output_type": "display_data"
    }
   ],
   "source": [
    "prettylabs = {\n",
    "    'A cég csőd eljárás alatt áll': 'Csőd eljárás',\n",
    "    'A cég felszámolási eljárás alatt áll': 'Felszámolás',\n",
    "    'A cég kényszertörlési eljárás alatt áll': 'Kényszertörlés',\n",
    "}\n",
    "\n",
    "possibleEvents = prettylabs.keys()\n",
    "events = list(rawdata['AllapotLeiras'])\n",
    "counts = [events.count(x) for x in possibleEvents]\n",
    "countmap = dict(zip(possibleEvents, counts))\n",
    "\n",
    "indexes = [prettylabs[x] + f\" ({countmap[x]})\" for x in possibleEvents]\n",
    "\n",
    "df = pd.DataFrame({'count': counts,}, index = indexes)\n",
    "\n",
    "df.plot.bar(rot=0);"
   ]
  },
  {
   "cell_type": "markdown",
   "metadata": {},
   "source": [
    "Látható, hogy a legtöbb csődesemény oka a felszámolási eljárás. Az eseményeket bináris változóvá transzfromálva ki tudjuk egészíteni az adatbázisunkat a fizetőképességet indikáló célváltozóval:"
   ]
  },
  {
   "cell_type": "code",
   "execution_count": 59,
   "metadata": {},
   "outputs": [
    {
     "data": {
      "text/html": [
       "<div>\n",
       "<style scoped>\n",
       "    .dataframe tbody tr th:only-of-type {\n",
       "        vertical-align: middle;\n",
       "    }\n",
       "\n",
       "    .dataframe tbody tr th {\n",
       "        vertical-align: top;\n",
       "    }\n",
       "\n",
       "    .dataframe thead th {\n",
       "        text-align: right;\n",
       "    }\n",
       "</style>\n",
       "<table border=\"1\" class=\"dataframe\">\n",
       "  <thead>\n",
       "    <tr style=\"text-align: right;\">\n",
       "      <th></th>\n",
       "      <th>ROA</th>\n",
       "      <th>FIZETOKEPES</th>\n",
       "    </tr>\n",
       "  </thead>\n",
       "  <tbody>\n",
       "    <tr>\n",
       "      <th>96</th>\n",
       "      <td>-0.36</td>\n",
       "      <td>1</td>\n",
       "    </tr>\n",
       "    <tr>\n",
       "      <th>97</th>\n",
       "      <td>0.03</td>\n",
       "      <td>1</td>\n",
       "    </tr>\n",
       "    <tr>\n",
       "      <th>98</th>\n",
       "      <td>-0.06</td>\n",
       "      <td>1</td>\n",
       "    </tr>\n",
       "    <tr>\n",
       "      <th>99</th>\n",
       "      <td>-0.04</td>\n",
       "      <td>0</td>\n",
       "    </tr>\n",
       "    <tr>\n",
       "      <th>100</th>\n",
       "      <td>0.06</td>\n",
       "      <td>1</td>\n",
       "    </tr>\n",
       "    <tr>\n",
       "      <th>101</th>\n",
       "      <td>0.01</td>\n",
       "      <td>1</td>\n",
       "    </tr>\n",
       "  </tbody>\n",
       "</table>\n",
       "</div>"
      ],
      "text/plain": [
       "      ROA  FIZETOKEPES\n",
       "96  -0.36            1\n",
       "97   0.03            1\n",
       "98  -0.06            1\n",
       "99  -0.04            0\n",
       "100  0.06            1\n",
       "101  0.01            1"
      ]
     },
     "execution_count": 59,
     "metadata": {},
     "output_type": "execute_result"
    }
   ],
   "source": [
    "binmap = {\n",
    "    'A cég csőd eljárás alatt áll': 0,\n",
    "    'A cég felszámolási eljárás alatt áll': 0,\n",
    "    'A cég kényszertörlési eljárás alatt áll': 0,\n",
    "    'Működik': 1\n",
    "}\n",
    "\n",
    "binlist = [binmap[x] for x in events]\n",
    "\n",
    "database['FIZETOKEPES'] = binlist\n",
    "\n",
    "database.loc[96:101,[\"ROA\",\"FIZETOKEPES\"]]"
   ]
  },
  {
   "cell_type": "markdown",
   "metadata": {},
   "source": [
    "## 5. Outlier értékek azonosítása és csonkolással történő kezelése\n",
    "Az outlier értékek olyan megfigyelt értékek, amelyek kilógnak a többi érték közül, nem tűnnek hihetőnek, túl nagyok, illetve túl kicsik. Az alapsokaság vagy a véletlen mintavétel általában nem hiba, hanem valós folyamatok révén tartalmaz outlier értékeket. Az outlier értékeket az alábbi kódrészlet a **percentilisek csonkolásával** szűri ki. A felső és alsó 5% precentilis-be eső értékeket a percentilis értékére változtatja.\n",
    "\n"
   ]
  },
  {
   "cell_type": "code",
   "execution_count": 48,
   "metadata": {},
   "outputs": [],
   "source": [
    "lower = dict(database.quantile(q=.05))\n",
    "upper = dict(database.quantile(q=.95))\n",
    "\n",
    "def truncate(vals, percentile, isUpper):\n",
    "    for i in range(len(vals)):\n",
    "        if isUpper and vals[i] > percentile:\n",
    "            vals[i] = percentile\n",
    "        elif not isUpper and vals[i] < percentile:\n",
    "            vals[i] = percentile"
   ]
  },
  {
   "cell_type": "code",
   "execution_count": 49,
   "metadata": {},
   "outputs": [
    {
     "data": {
      "image/png": "[encoded data removed]",
      "text/plain": [
       "<Figure size 432x288 with 1 Axes>"
      ]
     },
     "metadata": {
      "needs_background": "light"
     },
     "output_type": "display_data"
    }
   ],
   "source": [
    "vals = list(database[\"ROS\"])\n",
    "percentile = lower[\"ROS\"]\n",
    "plt.plot(vals)\n",
    "truncate(vals, percentile, False)\n",
    "plt.plot(vals);"
   ]
  },
  {
   "cell_type": "markdown",
   "metadata": {},
   "source": [
    "Az árbevételarányos nyereség pédáján jól látszik a csonkolás eredménye. A narancssárga szín jelzi az alsó 5% percentilis csonkolásából keletkezett adatokat. A kiugró értékek eltávolításával egy jóval reprezentatívabb adatsort nyerünk, mely alkalmasabb lesz a későbbiekben modellek készítésére."
   ]
  },
  {
   "cell_type": "code",
   "execution_count": 52,
   "metadata": {
    "scrolled": true
   },
   "outputs": [],
   "source": [
    "def truncateDatabase():\n",
    "    for col in database:\n",
    "        if col is 'FIZETOKEPES':\n",
    "            continue\n",
    "        else:\n",
    "            vals = list(database[col])\n",
    "            lowerp = lower[col]\n",
    "            truncate(vals, lowerp, False)\n",
    "            upperp = upper[col]\n",
    "            truncate(vals, upperp, True)\n",
    "            database[col] = vals\n",
    "    \n",
    "truncateDatabase()"
   ]
  },
  {
   "cell_type": "markdown",
   "metadata": {},
   "source": [
    "Az outlier értékek kezelésével létrejött a végleges adatbázis, melyet a továbbiakban fel tudunk használni csődvalószínűség, illetve fizetőképességet kifejező score becslésére. A végleges táblát a `result.xslx` nevű állományba mentjük."
   ]
  },
  {
   "cell_type": "code",
   "execution_count": 54,
   "metadata": {},
   "outputs": [],
   "source": [
    "database.to_excel(\"result.xlsx\")"
   ]
  }
 ],
 "metadata": {
  "kernelspec": {
   "display_name": "Python 3",
   "language": "python",
   "name": "python3"
  },
  "language_info": {
   "codemirror_mode": {
    "name": "ipython",
    "version": 3
   },
   "file_extension": ".py",
   "mimetype": "text/x-python",
   "name": "python",
   "nbconvert_exporter": "python",
   "pygments_lexer": "ipython3",
   "version": "3.7.7"
  }
 },
 "nbformat": 4,
 "nbformat_minor": 4
}
